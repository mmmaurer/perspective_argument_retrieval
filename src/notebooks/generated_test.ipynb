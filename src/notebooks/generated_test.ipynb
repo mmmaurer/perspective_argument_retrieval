{
 "cells": [
  {
   "cell_type": "code",
   "execution_count": 12,
   "metadata": {
    "tags": []
   },
   "outputs": [],
   "source": [
    "import os\n",
    "import sys\n",
    "\n",
    "import pandas as pd\n",
    "\n",
    "module_path = os.path.abspath(os.path.join('..'))\n",
    "if module_path not in sys.path:\n",
    "    sys.path.append(module_path)\n",
    "\n",
    "from data_input.load_data import load_corpus, load_queries\n",
    "from evaluation.evaluation import evaluate_predictions\n",
    "from models.rankers import SentenceTransformerRanker\n",
    "from models.utils import process_predictions"
   ]
  },
  {
   "cell_type": "markdown",
   "metadata": {},
   "source": [
    "Note that `Scenario 1: Baseline` is equal to the SBERT baseline for all cycles"
   ]
  },
  {
   "cell_type": "markdown",
   "metadata": {},
   "source": [
    "# Test Cycle 1"
   ]
  },
  {
   "cell_type": "markdown",
   "metadata": {},
   "source": [
    "## Scenario 2: Explicit Perspectivism"
   ]
  },
  {
   "cell_type": "code",
   "execution_count": 13,
   "metadata": {
    "tags": []
   },
   "outputs": [],
   "source": [
    "queries_perspective = load_queries(\"../../data-release-test-1/\", \"perspective\", \"test\")\n",
    "corpus = load_corpus(\"../../data-release-test-1/\")"
   ]
  },
  {
   "cell_type": "code",
   "execution_count": 14,
   "metadata": {
    "tags": []
   },
   "outputs": [],
   "source": [
    "generated_arguments = pd.read_csv(\"../../data/produced_arguments/culture_queries_test.csv\")\n",
    "generated_arguments.fillna(\"\", inplace=True) # replace NA with empty string"
   ]
  },
  {
   "cell_type": "code",
   "execution_count": 15,
   "metadata": {
    "tags": []
   },
   "outputs": [
    {
     "data": {
      "application/vnd.jupyter.widget-view+json": {
       "model_id": "3edeacd46560451194ae7fcf27f1423d",
       "version_major": 2,
       "version_minor": 0
      },
      "text/plain": [
       "Batches:   0%|          | 0/1013 [00:00<?, ?it/s]"
      ]
     },
     "metadata": {},
     "output_type": "display_data"
    }
   ],
   "source": [
    "retrieval_ranker = SentenceTransformerRanker()\n",
    "retrieval_ranker.fit_trainsform(corpus[\"argument\"].values)"
   ]
  },
  {
   "cell_type": "code",
   "execution_count": 5,
   "metadata": {
    "tags": []
   },
   "outputs": [],
   "source": [
    "preselected_per_attribute = {}\n",
    "for attribute in ['gender', 'age',\n",
    "       'residence', 'civil_status', 'denomination', 'education',\n",
    "       'political_spectrum']:\n",
    "    preselected_per_attribute[attribute] = {}\n",
    "    for key in corpus[attribute].unique():\n",
    "        preselected_per_attribute[attribute][key] = [i for i in corpus[corpus[attribute] == key].index]\n",
    "vals = []\n",
    "for i, row in corpus.iterrows():\n",
    "    vals += row[\"important_political_issues\"]\n",
    "vals = list(set(vals))\n",
    "preselected_per_attribute[\"important_political_issue\"] = {}\n",
    "for val in vals:\n",
    "    preselected_per_attribute[\"important_political_issue\"][val] = [i for i, row in corpus.iterrows() if val in row[\"important_political_issues\"]]"
   ]
  },
  {
   "cell_type": "code",
   "execution_count": 6,
   "metadata": {
    "tags": []
   },
   "outputs": [],
   "source": [
    "pred = []\n",
    "for i, query in queries_perspective.iterrows():\n",
    "    attribute = list(query[\"demographic_property\"].keys())[0]\n",
    "    key = list(query[\"demographic_property\"].values())[0]\n",
    "    if attribute == \"age_bin\":\n",
    "        attribute = \"age\"\n",
    "    pred += retrieval_ranker.rank([query[\"text\"]], preselected_ids=preselected_per_attribute[attribute][key], top_k=200)"
   ]
  },
  {
   "cell_type": "code",
   "execution_count": 8,
   "metadata": {
    "tags": []
   },
   "outputs": [],
   "source": [
    "sbert_basic_prompt_predictions = []\n",
    "for i, argument in enumerate(generated_arguments[\"culture_German_pro\"].values):\n",
    "        sbert_basic_prompt_predictions += retrieval_ranker.rank([argument], top_k=200, preselected_ids=pred[i])"
   ]
  },
  {
   "cell_type": "code",
   "execution_count": 9,
   "metadata": {
    "tags": []
   },
   "outputs": [],
   "source": [
    "predictions = process_predictions(corpus, queries_perspective, sbert_basic_prompt_predictions)"
   ]
  },
  {
   "cell_type": "code",
   "execution_count": 11,
   "metadata": {
    "tags": []
   },
   "outputs": [
    {
     "name": "stderr",
     "output_type": "stream",
     "text": [
      "100%|██████████| 2358/2358 [00:00<00:00, 7164.02it/s]\n"
     ]
    },
    {
     "name": "stdout",
     "output_type": "stream",
     "text": [
      "+----+-----+----------+---------------+\n",
      "|    |   k |   ndcg@k |   precision@k |\n",
      "|----+-----+----------+---------------|\n",
      "|  0 |   4 | 0.660812 |      0.610051 |\n",
      "|  1 |   8 | 0.64771  |      0.553965 |\n",
      "|  2 |  16 | 0.637238 |      0.493268 |\n",
      "|  3 |  20 | 0.63433  |      0.473585 |\n",
      "+----+-----+----------+---------------+\n"
     ]
    },
    {
     "name": "stderr",
     "output_type": "stream",
     "text": [
      "100%|██████████| 2358/2358 [01:56<00:00, 20.18it/s]\n"
     ]
    },
    {
     "name": "stdout",
     "output_type": "stream",
     "text": [
      "+----+-----+----------------+-------------------+\n",
      "|    |   k |   alpha_ndcg@k |   kl_divergence@k |\n",
      "|----+-----+----------------+-------------------|\n",
      "|  0 |   4 |       0.618968 |          0.205054 |\n",
      "|  1 |   8 |       0.618594 |          0.19152  |\n",
      "|  2 |  16 |       0.618306 |          0.163282 |\n",
      "|  3 |  20 |       0.617711 |          0.155345 |\n",
      "+----+-----+----------------+-------------------+\n"
     ]
    }
   ],
   "source": [
    "evaluate_predictions(predictions=predictions,\n",
    "                     data_dir=\"../../data-release-test-1/\",\n",
    "                     scenario=\"perspective\",\n",
    "                     split=\"test\",\n",
    "                     output_dir=\"../../results/generated_test1_explicit\",\n",
    "                     diversity=True)"
   ]
  },
  {
   "cell_type": "markdown",
   "metadata": {},
   "source": [
    "## Scenario 3: Implicit Perspectivism"
   ]
  },
  {
   "cell_type": "code",
   "execution_count": 18,
   "metadata": {
    "tags": []
   },
   "outputs": [],
   "source": [
    "candidates = retrieval_ranker.rank(queries_perspective[\"text\"].values, top_k=200)\n",
    "sbert_basic_prompt_predictions = []\n",
    "for i, argument in enumerate(generated_arguments[\"culture_German_pro\"].values):\n",
    "        sbert_basic_prompt_predictions += retrieval_ranker.rank([argument], top_k=200, preselected_ids=candidates[i])"
   ]
  },
  {
   "cell_type": "code",
   "execution_count": 19,
   "metadata": {
    "tags": []
   },
   "outputs": [
    {
     "name": "stderr",
     "output_type": "stream",
     "text": [
      "100%|██████████| 2358/2358 [00:00<00:00, 3606.84it/s]\n"
     ]
    },
    {
     "name": "stdout",
     "output_type": "stream",
     "text": [
      "+----+-----+----------+---------------+\n",
      "|    |   k |   ndcg@k |   precision@k |\n",
      "|----+-----+----------+---------------|\n",
      "|  0 |   4 | 0.178108 |      0.178541 |\n",
      "|  1 |   8 | 0.18168  |      0.182199 |\n",
      "|  2 |  16 | 0.187526 |      0.185008 |\n",
      "|  3 |  20 | 0.191808 |      0.18785  |\n",
      "+----+-----+----------+---------------+\n"
     ]
    },
    {
     "name": "stderr",
     "output_type": "stream",
     "text": [
      "100%|██████████| 2358/2358 [02:05<00:00, 18.77it/s]\n"
     ]
    },
    {
     "name": "stdout",
     "output_type": "stream",
     "text": [
      "+----+-----+----------------+-------------------+\n",
      "|    |   k |   alpha_ndcg@k |   kl_divergence@k |\n",
      "|----+-----+----------------+-------------------|\n",
      "|  0 |   4 |       0.164391 |          0.163773 |\n",
      "|  1 |   8 |       0.169568 |          0.147226 |\n",
      "|  2 |  16 |       0.177328 |          0.112381 |\n",
      "|  3 |  20 |       0.18156  |          0.102674 |\n",
      "+----+-----+----------------+-------------------+\n"
     ]
    }
   ],
   "source": [
    "predictions = process_predictions(corpus, queries_perspective, sbert_basic_prompt_predictions)\n",
    "evaluate_predictions(predictions=predictions,\n",
    "                     data_dir=\"../../data-release-test-1/\",\n",
    "                     scenario=\"perspective\",\n",
    "                     split=\"test\",\n",
    "                     output_dir=\"../../results/generated_test1_implicit\",\n",
    "                     diversity=True,\n",
    "                     implicit=True)"
   ]
  },
  {
   "cell_type": "markdown",
   "metadata": {},
   "source": [
    "# Test cycle 2"
   ]
  },
  {
   "cell_type": "markdown",
   "metadata": {},
   "source": [
    "## Scenario 2: Explicit Perspectivism"
   ]
  },
  {
   "cell_type": "code",
   "execution_count": 12,
   "metadata": {
    "tags": []
   },
   "outputs": [],
   "source": [
    "queries_perspective = load_queries(\"../../data-release-test-2/\", \"perspective\", \"test\")\n",
    "corpus = load_corpus(\"../../data-release-test-2/\")"
   ]
  },
  {
   "cell_type": "code",
   "execution_count": 13,
   "metadata": {
    "tags": []
   },
   "outputs": [],
   "source": [
    "generated_arguments = pd.read_csv(\"../../data/produced_arguments/culture_queries_test2.csv\")\n",
    "generated_arguments.fillna(\"\", inplace=True) # replace NA with empty string"
   ]
  },
  {
   "cell_type": "code",
   "execution_count": 14,
   "metadata": {
    "tags": []
   },
   "outputs": [
    {
     "data": {
      "application/vnd.jupyter.widget-view+json": {
       "model_id": "b7f4554e5f1c47a1850f15db0ebb5c25",
       "version_major": 2,
       "version_minor": 0
      },
      "text/plain": [
       "Batches:   0%|          | 0/1222 [00:00<?, ?it/s]"
      ]
     },
     "metadata": {},
     "output_type": "display_data"
    }
   ],
   "source": [
    "retrieval_ranker = SentenceTransformerRanker()\n",
    "retrieval_ranker.fit_trainsform(corpus[\"argument\"].values)"
   ]
  },
  {
   "cell_type": "code",
   "execution_count": 15,
   "metadata": {
    "tags": []
   },
   "outputs": [],
   "source": [
    "preselected_per_attribute = {}\n",
    "for attribute in ['gender', 'age',\n",
    "       'residence', 'civil_status', 'denomination', 'education',\n",
    "       'political_spectrum']:\n",
    "    preselected_per_attribute[attribute] = {}\n",
    "    for key in corpus[attribute].unique():\n",
    "        preselected_per_attribute[attribute][key] = [i for i in corpus[corpus[attribute] == key].index]\n",
    "vals = []\n",
    "for i, row in corpus.iterrows():\n",
    "    vals += row[\"important_political_issues\"]\n",
    "vals = list(set(vals))\n",
    "preselected_per_attribute[\"important_political_issue\"] = {}\n",
    "for val in vals:\n",
    "    preselected_per_attribute[\"important_political_issue\"][val] = [i for i, row in corpus.iterrows() if val in row[\"important_political_issues\"]]"
   ]
  },
  {
   "cell_type": "code",
   "execution_count": 16,
   "metadata": {
    "tags": []
   },
   "outputs": [],
   "source": [
    "pred = []\n",
    "for i, query in queries_perspective.iterrows():\n",
    "    attribute = list(query[\"demographic_property\"].keys())[0]\n",
    "    key = list(query[\"demographic_property\"].values())[0]\n",
    "    if attribute == \"age_bin\":\n",
    "        attribute = \"age\"\n",
    "    pred += retrieval_ranker.rank([query[\"text\"]], preselected_ids=preselected_per_attribute[attribute][key], top_k=200)"
   ]
  },
  {
   "cell_type": "code",
   "execution_count": 17,
   "metadata": {
    "tags": []
   },
   "outputs": [],
   "source": [
    "sbert_basic_prompt_predictions = []\n",
    "for i, argument in enumerate(generated_arguments[\"culture_German_pro\"].values):\n",
    "        sbert_basic_prompt_predictions += retrieval_ranker.rank([argument], top_k=200, preselected_ids=pred[i])"
   ]
  },
  {
   "cell_type": "code",
   "execution_count": 18,
   "metadata": {
    "tags": []
   },
   "outputs": [],
   "source": [
    "predictions = process_predictions(corpus, queries_perspective, sbert_basic_prompt_predictions)"
   ]
  },
  {
   "cell_type": "code",
   "execution_count": 20,
   "metadata": {
    "tags": []
   },
   "outputs": [
    {
     "name": "stderr",
     "output_type": "stream",
     "text": [
      "100%|██████████| 1782/1782 [00:00<00:00, 2977.54it/s]\n"
     ]
    },
    {
     "name": "stdout",
     "output_type": "stream",
     "text": [
      "+----+-----+----------+---------------+\n",
      "|    |   k |   ndcg@k |   precision@k |\n",
      "|----+-----+----------+---------------|\n",
      "|  0 |   4 | 0.622549 |      0.548681 |\n",
      "|  1 |   8 | 0.602224 |      0.472854 |\n",
      "|  2 |  16 | 0.583915 |      0.394851 |\n",
      "|  3 |  20 | 0.579499 |      0.368743 |\n",
      "+----+-----+----------+---------------+\n"
     ]
    },
    {
     "name": "stderr",
     "output_type": "stream",
     "text": [
      "100%|██████████| 1782/1782 [01:58<00:00, 15.06it/s]\n"
     ]
    },
    {
     "name": "stdout",
     "output_type": "stream",
     "text": [
      "+----+-----+----------------+-------------------+\n",
      "|    |   k |   alpha_ndcg@k |   kl_divergence@k |\n",
      "|----+-----+----------------+-------------------|\n",
      "|  0 |   4 |       0.591646 |          0.188017 |\n",
      "|  1 |   8 |       0.582609 |          0.175575 |\n",
      "|  2 |  16 |       0.572135 |          0.150025 |\n",
      "|  3 |  20 |       0.568865 |          0.142816 |\n",
      "+----+-----+----------------+-------------------+\n"
     ]
    }
   ],
   "source": [
    "evaluate_predictions(predictions=predictions,\n",
    "                     data_dir=\"../../data-release-test-2/\",\n",
    "                     scenario=\"perspective\",\n",
    "                     split=\"test\",\n",
    "                     output_dir=\"../../results/generated_test2_explicit\",\n",
    "                     diversity=True)"
   ]
  },
  {
   "cell_type": "markdown",
   "metadata": {},
   "source": [
    "## Scenario 3: Implicit Perspectivism"
   ]
  },
  {
   "cell_type": "code",
   "execution_count": 23,
   "metadata": {
    "tags": []
   },
   "outputs": [],
   "source": [
    "candidates = retrieval_ranker.rank(queries_perspective[\"text\"].values, top_k=200)"
   ]
  },
  {
   "cell_type": "code",
   "execution_count": 24,
   "metadata": {
    "tags": []
   },
   "outputs": [],
   "source": [
    "sbert_basic_prompt_predictions = []\n",
    "for i, argument in enumerate(generated_arguments[\"culture_German_pro\"].values):\n",
    "        sbert_basic_prompt_predictions += retrieval_ranker.rank([argument], top_k=200, preselected_ids=candidates[i])"
   ]
  },
  {
   "cell_type": "code",
   "execution_count": 25,
   "metadata": {
    "tags": []
   },
   "outputs": [],
   "source": [
    "predictions = process_predictions(corpus, queries_perspective, sbert_basic_prompt_predictions)"
   ]
  },
  {
   "cell_type": "code",
   "execution_count": 26,
   "metadata": {
    "tags": []
   },
   "outputs": [
    {
     "name": "stderr",
     "output_type": "stream",
     "text": [
      "100%|██████████| 1782/1782 [00:00<00:00, 4144.80it/s]\n"
     ]
    },
    {
     "name": "stdout",
     "output_type": "stream",
     "text": [
      "+----+-----+----------+---------------+\n",
      "|    |   k |   ndcg@k |   precision@k |\n",
      "|----+-----+----------+---------------|\n",
      "|  0 |   4 | 0.130036 |      0.129349 |\n",
      "|  1 |   8 | 0.126899 |      0.123106 |\n",
      "|  2 |  16 | 0.126043 |      0.117565 |\n",
      "|  3 |  20 | 0.126924 |      0.116891 |\n",
      "+----+-----+----------+---------------+\n"
     ]
    },
    {
     "name": "stderr",
     "output_type": "stream",
     "text": [
      "100%|██████████| 1782/1782 [01:49<00:00, 16.21it/s]\n"
     ]
    },
    {
     "name": "stdout",
     "output_type": "stream",
     "text": [
      "+----+-----+----------------+-------------------+\n",
      "|    |   k |   alpha_ndcg@k |   kl_divergence@k |\n",
      "|----+-----+----------------+-------------------|\n",
      "|  0 |   4 |       0.120722 |          0.155261 |\n",
      "|  1 |   8 |       0.120515 |          0.139217 |\n",
      "|  2 |  16 |       0.121494 |          0.105921 |\n",
      "|  3 |  20 |       0.122604 |          0.096631 |\n",
      "+----+-----+----------------+-------------------+\n"
     ]
    }
   ],
   "source": [
    "evaluate_predictions(predictions=predictions,\n",
    "                     data_dir=\"../../data-release-test-2/\",\n",
    "                     scenario=\"perspective\",\n",
    "                     split=\"test\",\n",
    "                     output_dir=\"../../results/generated_test2_implicit\",\n",
    "                     diversity=True,\n",
    "                     implicit=True)"
   ]
  },
  {
   "cell_type": "markdown",
   "metadata": {},
   "source": [
    "# Test Cycle 3"
   ]
  },
  {
   "cell_type": "markdown",
   "metadata": {},
   "source": [
    "## Scenario 2: Explicit Perspectivism"
   ]
  },
  {
   "cell_type": "code",
   "execution_count": 29,
   "metadata": {
    "tags": []
   },
   "outputs": [],
   "source": [
    "queries_perspective = load_queries(\"../../data-release-test-3/\", \"perspective\", \"test\")\n",
    "corpus = load_corpus(\"../../data-release-test-3/\")"
   ]
  },
  {
   "cell_type": "code",
   "execution_count": 30,
   "metadata": {
    "tags": []
   },
   "outputs": [],
   "source": [
    "generated_arguments = pd.read_csv(\"../../data/produced_arguments/culture_queries_test3.csv\")\n",
    "generated_arguments.fillna(\"\", inplace=True) # replace NA with empty string"
   ]
  },
  {
   "cell_type": "code",
   "execution_count": 31,
   "metadata": {
    "tags": []
   },
   "outputs": [
    {
     "data": {
      "application/vnd.jupyter.widget-view+json": {
       "model_id": "d467f7f962a442908277a51792203383",
       "version_major": 2,
       "version_minor": 0
      },
      "text/plain": [
       "Batches:   0%|          | 0/897 [00:00<?, ?it/s]"
      ]
     },
     "metadata": {},
     "output_type": "display_data"
    }
   ],
   "source": [
    "retrieval_ranker = SentenceTransformerRanker()\n",
    "retrieval_ranker.fit_trainsform(corpus[\"argument\"].values)"
   ]
  },
  {
   "cell_type": "code",
   "execution_count": 32,
   "metadata": {
    "tags": []
   },
   "outputs": [],
   "source": [
    "preselected_per_attribute = {}\n",
    "for attribute in ['gender', 'age',\n",
    "       'residence', 'civil_status', 'denomination', 'education',\n",
    "       'political_spectrum']:\n",
    "    preselected_per_attribute[attribute] = {}\n",
    "    for key in corpus[attribute].unique():\n",
    "        preselected_per_attribute[attribute][key] = [i for i in corpus[corpus[attribute] == key].index]\n",
    "vals = []\n",
    "for i, row in corpus.iterrows():\n",
    "    vals += row[\"important_political_issues\"]\n",
    "vals = list(set(vals))\n",
    "preselected_per_attribute[\"important_political_issue\"] = {}\n",
    "for val in vals:\n",
    "    preselected_per_attribute[\"important_political_issue\"][val] = [i for i, row in corpus.iterrows() if val in row[\"important_political_issues\"]]"
   ]
  },
  {
   "cell_type": "code",
   "execution_count": 33,
   "metadata": {
    "tags": []
   },
   "outputs": [],
   "source": [
    "pred = []\n",
    "for i, query in queries_perspective.iterrows():\n",
    "    attribute = list(query[\"demographic_property\"].keys())[0]\n",
    "    key = list(query[\"demographic_property\"].values())[0]\n",
    "    if attribute == \"age_bin\":\n",
    "        attribute = \"age\"\n",
    "    pred += retrieval_ranker.rank([query[\"text\"]], preselected_ids=preselected_per_attribute[attribute][key], top_k=200)"
   ]
  },
  {
   "cell_type": "code",
   "execution_count": 34,
   "metadata": {
    "tags": []
   },
   "outputs": [],
   "source": [
    "sbert_basic_prompt_predictions = []\n",
    "for i, argument in enumerate(generated_arguments[\"culture_German_pro\"].values):\n",
    "        sbert_basic_prompt_predictions += retrieval_ranker.rank([argument], top_k=200, preselected_ids=pred[i])"
   ]
  },
  {
   "cell_type": "code",
   "execution_count": 35,
   "metadata": {
    "tags": []
   },
   "outputs": [],
   "source": [
    "predictions = process_predictions(corpus, queries_perspective, sbert_basic_prompt_predictions)"
   ]
  },
  {
   "cell_type": "code",
   "execution_count": 36,
   "metadata": {
    "tags": []
   },
   "outputs": [
    {
     "name": "stderr",
     "output_type": "stream",
     "text": [
      "100%|██████████| 729/729 [00:00<00:00, 7323.37it/s]\n"
     ]
    },
    {
     "name": "stdout",
     "output_type": "stream",
     "text": [
      "+----+-----+----------+---------------+\n",
      "|    |   k |   ndcg@k |   precision@k |\n",
      "|----+-----+----------+---------------|\n",
      "|  0 |   4 | 0.515849 |      0.491084 |\n",
      "|  1 |   8 | 0.494304 |      0.410151 |\n",
      "|  2 |  16 | 0.481858 |      0.319616 |\n",
      "|  3 |  20 | 0.48077  |      0.290192 |\n",
      "+----+-----+----------+---------------+\n"
     ]
    },
    {
     "name": "stderr",
     "output_type": "stream",
     "text": [
      "100%|██████████| 729/729 [00:33<00:00, 21.64it/s]\n"
     ]
    },
    {
     "name": "stdout",
     "output_type": "stream",
     "text": [
      "+----+-----+----------------+-------------------+\n",
      "|    |   k |   alpha_ndcg@k |   kl_divergence@k |\n",
      "|----+-----+----------------+-------------------|\n",
      "|  0 |   4 |       0.503821 |          0.239436 |\n",
      "|  1 |   8 |       0.494901 |          0.228403 |\n",
      "|  2 |  16 |       0.486398 |          0.204929 |\n",
      "|  3 |  20 |       0.485007 |          0.198093 |\n",
      "+----+-----+----------------+-------------------+\n"
     ]
    }
   ],
   "source": [
    "evaluate_predictions(predictions=predictions,\n",
    "                     data_dir=\"../../data-release-test-3/\",\n",
    "                     scenario=\"perspective\",\n",
    "                     split=\"test\",\n",
    "                     output_dir=\"../../results/generated_test3_explicit\",\n",
    "                     diversity=True)"
   ]
  },
  {
   "cell_type": "markdown",
   "metadata": {},
   "source": [
    "## Scenario 3: Implicit Perspectivism"
   ]
  },
  {
   "cell_type": "code",
   "execution_count": 39,
   "metadata": {
    "tags": []
   },
   "outputs": [],
   "source": [
    "candidates = retrieval_ranker.rank(queries_perspective[\"text\"].values, top_k=200)"
   ]
  },
  {
   "cell_type": "code",
   "execution_count": 40,
   "metadata": {
    "tags": []
   },
   "outputs": [],
   "source": [
    "sbert_basic_prompt_predictions = []\n",
    "for i, argument in enumerate(generated_arguments[\"culture_German_pro\"].values):\n",
    "        sbert_basic_prompt_predictions += retrieval_ranker.rank([argument], top_k=200, preselected_ids=candidates[i])"
   ]
  },
  {
   "cell_type": "code",
   "execution_count": 41,
   "metadata": {
    "tags": []
   },
   "outputs": [],
   "source": [
    "predictions = process_predictions(corpus, queries_perspective, sbert_basic_prompt_predictions)"
   ]
  },
  {
   "cell_type": "code",
   "execution_count": 42,
   "metadata": {
    "tags": []
   },
   "outputs": [
    {
     "name": "stderr",
     "output_type": "stream",
     "text": [
      "100%|██████████| 729/729 [00:00<00:00, 3561.38it/s]\n"
     ]
    },
    {
     "name": "stdout",
     "output_type": "stream",
     "text": [
      "+----+-----+----------+---------------+\n",
      "|    |   k |   ndcg@k |   precision@k |\n",
      "|----+-----+----------+---------------|\n",
      "|  0 |   4 | 0.303507 |      0.318244 |\n",
      "|  1 |   8 | 0.336466 |      0.335219 |\n",
      "|  2 |  16 | 0.368269 |      0.297754 |\n",
      "|  3 |  20 | 0.385001 |      0.283608 |\n",
      "+----+-----+----------+---------------+\n"
     ]
    },
    {
     "name": "stderr",
     "output_type": "stream",
     "text": [
      "100%|██████████| 729/729 [00:35<00:00, 20.64it/s]\n"
     ]
    },
    {
     "name": "stdout",
     "output_type": "stream",
     "text": [
      "+----+-----+----------------+-------------------+\n",
      "|    |   k |   alpha_ndcg@k |   kl_divergence@k |\n",
      "|----+-----+----------------+-------------------|\n",
      "|  0 |   4 |       0.287694 |          0.185971 |\n",
      "|  1 |   8 |       0.322824 |          0.17126  |\n",
      "|  2 |  16 |       0.35076  |          0.138318 |\n",
      "|  3 |  20 |       0.36382  |          0.128291 |\n",
      "+----+-----+----------------+-------------------+\n"
     ]
    }
   ],
   "source": [
    "evaluate_predictions(predictions=predictions,\n",
    "                     data_dir=\"../../data-release-test-3/\",\n",
    "                     scenario=\"perspective\",\n",
    "                     split=\"test\",\n",
    "                     output_dir=\"../../results/generated_test3_implicit\",\n",
    "                     diversity=True,\n",
    "                     implicit=True)"
   ]
  },
  {
   "cell_type": "code",
   "execution_count": null,
   "metadata": {},
   "outputs": [],
   "source": []
  }
 ],
 "metadata": {
  "kernelspec": {
   "display_name": "base",
   "language": "python",
   "name": "python3"
  },
  "language_info": {
   "codemirror_mode": {
    "name": "ipython",
    "version": 3
   },
   "file_extension": ".py",
   "mimetype": "text/x-python",
   "name": "python",
   "nbconvert_exporter": "python",
   "pygments_lexer": "ipython3",
   "version": "3.11.5"
  }
 },
 "nbformat": 4,
 "nbformat_minor": 4
}
