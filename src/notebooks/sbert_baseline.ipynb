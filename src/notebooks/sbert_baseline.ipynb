{
 "cells": [
  {
   "cell_type": "code",
   "execution_count": 4,
   "metadata": {},
   "outputs": [],
   "source": [
    "import os\n",
    "import sys\n",
    "\n",
    "import pandas as pd\n",
    "import sentence_transformers\n",
    "from sklearn.metrics.pairwise import cosine_similarity\n",
    "from tqdm.notebook import tqdm\n",
    "\n",
    "module_path = os.path.abspath(os.path.join('..'))\n",
    "if module_path not in sys.path:\n",
    "    sys.path.append(module_path)\n",
    "\n",
    "from data_input.load_data import load_corpus, load_queries"
   ]
  },
  {
   "cell_type": "code",
   "execution_count": 5,
   "metadata": {},
   "outputs": [],
   "source": [
    "model = sentence_transformers.SentenceTransformer('paraphrase-multilingual-mpnet-base-v2')"
   ]
  },
  {
   "cell_type": "markdown",
   "metadata": {},
   "source": [
    "Loading corpus, embeddings for the arguments"
   ]
  },
  {
   "cell_type": "code",
   "execution_count": 7,
   "metadata": {},
   "outputs": [
    {
     "data": {
      "application/vnd.jupyter.widget-view+json": {
       "model_id": "db2a4edadbce4fb6a9b522df06b164eb",
       "version_major": 2,
       "version_minor": 0
      },
      "text/plain": [
       "Batches:   0%|          | 0/1013 [00:00<?, ?it/s]"
      ]
     },
     "metadata": {},
     "output_type": "display_data"
    }
   ],
   "source": [
    "corpus = load_corpus(\"../../data\")\n",
    "corpus_embeddings = model.encode(corpus[\"argument\"].values, show_progress_bar=True)"
   ]
  },
  {
   "cell_type": "markdown",
   "metadata": {},
   "source": [
    "# Results Vanilla SBERT\n",
    "Essentially, this is the baseline the organizers provide, but for reference, we test this on the perspective scenario, too"
   ]
  },
  {
   "cell_type": "code",
   "execution_count": 9,
   "metadata": {},
   "outputs": [
    {
     "data": {
      "application/vnd.jupyter.widget-view+json": {
       "model_id": "43345783cd524b52865301d71e637a5f",
       "version_major": 2,
       "version_minor": 0
      },
      "text/plain": [
       "Batches:   0%|          | 0/4 [00:00<?, ?it/s]"
      ]
     },
     "metadata": {},
     "output_type": "display_data"
    },
    {
     "name": "stdout",
     "output_type": "stream",
     "text": [
      "Results train baseline:\n"
     ]
    },
    {
     "name": "stderr",
     "output_type": "stream",
     "text": [
      "100%|██████████| 105/105 [00:00<00:00, 5014.60it/s]\n"
     ]
    },
    {
     "name": "stdout",
     "output_type": "stream",
     "text": [
      "+----+-----+----------+---------------+\n",
      "|    |   k |   ndcg@k |   precision@k |\n",
      "|----+-----+----------+---------------|\n",
      "|  0 |   4 | 0.957958 |      0.957143 |\n",
      "|  1 |   8 | 0.953623 |      0.95119  |\n",
      "|  2 |  16 | 0.935205 |      0.925595 |\n",
      "|  3 |  20 | 0.92902  |      0.918095 |\n",
      "+----+-----+----------+---------------+\n"
     ]
    },
    {
     "name": "stderr",
     "output_type": "stream",
     "text": [
      "100%|██████████| 105/105 [00:05<00:00, 17.97it/s]\n"
     ]
    },
    {
     "name": "stdout",
     "output_type": "stream",
     "text": [
      "+----+-----+----------------+-------------------+\n",
      "|    |   k |   alpha_ndcg@k |   kl_divergence@k |\n",
      "|----+-----+----------------+-------------------|\n",
      "|  0 |   4 |       0.876534 |         0.157353  |\n",
      "|  1 |   8 |       0.879313 |         0.14083   |\n",
      "|  2 |  16 |       0.881375 |         0.107892  |\n",
      "|  3 |  20 |       0.883236 |         0.0988534 |\n",
      "+----+-----+----------------+-------------------+\n"
     ]
    },
    {
     "data": {
      "application/vnd.jupyter.widget-view+json": {
       "model_id": "4f3be9bcda7a44179bc3a6400803aa01",
       "version_major": 2,
       "version_minor": 0
      },
      "text/plain": [
       "Batches:   0%|          | 0/175 [00:00<?, ?it/s]"
      ]
     },
     "metadata": {},
     "output_type": "display_data"
    },
    {
     "name": "stdout",
     "output_type": "stream",
     "text": [
      "Results train perspective:\n"
     ]
    },
    {
     "name": "stderr",
     "output_type": "stream",
     "text": [
      "100%|██████████| 5577/5577 [00:00<00:00, 6790.24it/s]\n"
     ]
    },
    {
     "name": "stdout",
     "output_type": "stream",
     "text": [
      "+----+-----+----------+---------------+\n",
      "|    |   k |   ndcg@k |   precision@k |\n",
      "|----+-----+----------+---------------|\n",
      "|  0 |   4 | 0.183197 |      0.182939 |\n",
      "|  1 |   8 | 0.18268  |      0.18128  |\n",
      "|  2 |  16 | 0.180829 |      0.17691  |\n",
      "|  3 |  20 | 0.180404 |      0.17548  |\n",
      "+----+-----+----------+---------------+\n"
     ]
    },
    {
     "name": "stderr",
     "output_type": "stream",
     "text": [
      "100%|██████████| 5577/5577 [04:55<00:00, 18.84it/s]\n"
     ]
    },
    {
     "name": "stdout",
     "output_type": "stream",
     "text": [
      "+----+-----+----------------+-------------------+\n",
      "|    |   k |   alpha_ndcg@k |   kl_divergence@k |\n",
      "|----+-----+----------------+-------------------|\n",
      "|  0 |   4 |       0.170985 |         0.157367  |\n",
      "|  1 |   8 |       0.17241  |         0.140879  |\n",
      "|  2 |  16 |       0.173679 |         0.108009  |\n",
      "|  3 |  20 |       0.17426  |         0.0989848 |\n",
      "+----+-----+----------------+-------------------+\n"
     ]
    },
    {
     "data": {
      "application/vnd.jupyter.widget-view+json": {
       "model_id": "48e9b49c5023445aa60ad0b97a42f014",
       "version_major": 2,
       "version_minor": 0
      },
      "text/plain": [
       "Batches:   0%|          | 0/1 [00:00<?, ?it/s]"
      ]
     },
     "metadata": {},
     "output_type": "display_data"
    },
    {
     "name": "stdout",
     "output_type": "stream",
     "text": [
      "Results dev baseline:\n"
     ]
    },
    {
     "name": "stderr",
     "output_type": "stream",
     "text": [
      "100%|██████████| 30/30 [00:00<00:00, 3593.58it/s]\n"
     ]
    },
    {
     "name": "stdout",
     "output_type": "stream",
     "text": [
      "+----+-----+----------+---------------+\n",
      "|    |   k |   ndcg@k |   precision@k |\n",
      "|----+-----+----------+---------------|\n",
      "|  0 |   4 | 0.96837  |      0.975    |\n",
      "|  1 |   8 | 0.96466  |      0.966667 |\n",
      "|  2 |  16 | 0.955535 |      0.952083 |\n",
      "|  3 |  20 | 0.95034  |      0.945    |\n",
      "+----+-----+----------+---------------+\n"
     ]
    },
    {
     "name": "stderr",
     "output_type": "stream",
     "text": [
      "100%|██████████| 30/30 [00:01<00:00, 18.64it/s]\n"
     ]
    },
    {
     "name": "stdout",
     "output_type": "stream",
     "text": [
      "+----+-----+----------------+-------------------+\n",
      "|    |   k |   alpha_ndcg@k |   kl_divergence@k |\n",
      "|----+-----+----------------+-------------------|\n",
      "|  0 |   4 |       0.877609 |         0.150392  |\n",
      "|  1 |   8 |       0.879654 |         0.136491  |\n",
      "|  2 |  16 |       0.890723 |         0.107088  |\n",
      "|  3 |  20 |       0.893866 |         0.0995033 |\n",
      "+----+-----+----------------+-------------------+\n"
     ]
    },
    {
     "data": {
      "application/vnd.jupyter.widget-view+json": {
       "model_id": "22d72f81bc304f03b61eb1528fb4b1df",
       "version_major": 2,
       "version_minor": 0
      },
      "text/plain": [
       "Batches:   0%|          | 0/51 [00:00<?, ?it/s]"
      ]
     },
     "metadata": {},
     "output_type": "display_data"
    },
    {
     "name": "stdout",
     "output_type": "stream",
     "text": [
      "Results dev perspective:\n"
     ]
    },
    {
     "name": "stderr",
     "output_type": "stream",
     "text": [
      "100%|██████████| 1611/1611 [00:00<00:00, 5728.94it/s]\n"
     ]
    },
    {
     "name": "stdout",
     "output_type": "stream",
     "text": [
      "+----+-----+----------+---------------+\n",
      "|    |   k |   ndcg@k |   precision@k |\n",
      "|----+-----+----------+---------------|\n",
      "|  0 |   4 | 0.180462 |      0.181719 |\n",
      "|  1 |   8 | 0.180812 |      0.180866 |\n",
      "|  2 |  16 | 0.180292 |      0.177917 |\n",
      "|  3 |  20 | 0.179676 |      0.176381 |\n",
      "+----+-----+----------+---------------+\n"
     ]
    },
    {
     "name": "stderr",
     "output_type": "stream",
     "text": [
      "100%|██████████| 1611/1611 [01:24<00:00, 18.96it/s]\n"
     ]
    },
    {
     "name": "stdout",
     "output_type": "stream",
     "text": [
      "+----+-----+----------------+-------------------+\n",
      "|    |   k |   alpha_ndcg@k |   kl_divergence@k |\n",
      "|----+-----+----------------+-------------------|\n",
      "|  0 |   4 |       0.166714 |         0.150345  |\n",
      "|  1 |   8 |       0.168643 |         0.136453  |\n",
      "|  2 |  16 |       0.171306 |         0.107077  |\n",
      "|  3 |  20 |       0.171819 |         0.0994725 |\n",
      "+----+-----+----------------+-------------------+\n"
     ]
    }
   ],
   "source": [
    "for split in [\"train\", \"dev\"]:\n",
    "    for scenario in [\"baseline\", \"perspective\"]:\n",
    "        queries = load_queries(\"../../data\", scenario, split)\n",
    "        queries_embeddings = model.encode(queries[\"text\"].values, show_progress_bar=True)\n",
    "        similarities = cosine_similarity(queries_embeddings, corpus_embeddings)\n",
    "\n",
    "        predictions = [\n",
    "            {\n",
    "                \"query_id\": queries.iloc[i][\"query_id\"],\n",
    "                \"relevant_candidates\": [\n",
    "                    corpus.iloc[candidate_index][\"argument_id\"]\n",
    "                    for candidate_index in candidates.argsort()[::-1][:1000]\n",
    "                ]\n",
    "            }\n",
    "            for i, candidates in enumerate(similarities)\n",
    "        ]\n",
    "        pd.DataFrame(predictions).to_json(f\"sbert-{split}-{scenario}-predictions.jsonl\", orient=\"records\", lines=True)\n",
    "        print(f\"Results {split} {scenario}:\")\n",
    "        os.system(f\"python3 ../evaluation/scripts/evaluation.py --data ../../data --scenario {scenario} --split {split} --predictions  sbert-{split}-{scenario}-predictions.jsonl --output_dir ../../results/sbert --diversity True\")"
   ]
  },
  {
   "cell_type": "markdown",
   "metadata": {},
   "source": [
    "The performance of SBERT here for the perspective sets gives us a baseline for the implicit perspectivism setting."
   ]
  },
  {
   "cell_type": "markdown",
   "metadata": {},
   "source": [
    "# Oracle Sampling of candidates from SBERT (explicit perspectivism setting)\n",
    "Of the candidates we retrieve using SBERT, we only consider those that have the respective sociocultural attribute "
   ]
  },
  {
   "cell_type": "code",
   "execution_count": 10,
   "metadata": {},
   "outputs": [
    {
     "data": {
      "application/vnd.jupyter.widget-view+json": {
       "model_id": "4751756a6a6643fd99f6bd7e99d156ed",
       "version_major": 2,
       "version_minor": 0
      },
      "text/plain": [
       "Batches:   0%|          | 0/175 [00:00<?, ?it/s]"
      ]
     },
     "metadata": {},
     "output_type": "display_data"
    },
    {
     "data": {
      "application/vnd.jupyter.widget-view+json": {
       "model_id": "442697ba7aff41c7ad3245ae25a024ae",
       "version_major": 2,
       "version_minor": 0
      },
      "text/plain": [
       "  0%|          | 0/5577 [00:00<?, ?it/s]"
      ]
     },
     "metadata": {},
     "output_type": "display_data"
    },
    {
     "name": "stdout",
     "output_type": "stream",
     "text": [
      "Results train perspective:\n"
     ]
    },
    {
     "name": "stderr",
     "output_type": "stream",
     "text": [
      "100%|██████████| 5577/5577 [00:00<00:00, 8310.42it/s]\n"
     ]
    },
    {
     "name": "stdout",
     "output_type": "stream",
     "text": [
      "+----+-----+----------+---------------+\n",
      "|    |   k |   ndcg@k |   precision@k |\n",
      "|----+-----+----------+---------------|\n",
      "|  0 |   4 | 0.815208 |      0.788163 |\n",
      "|  1 |   8 | 0.788282 |      0.732634 |\n",
      "|  2 |  16 | 0.755618 |      0.672123 |\n",
      "|  3 |  20 | 0.744415 |      0.653217 |\n",
      "+----+-----+----------+---------------+\n"
     ]
    },
    {
     "name": "stderr",
     "output_type": "stream",
     "text": [
      "100%|██████████| 5577/5577 [04:49<00:00, 19.24it/s]\n"
     ]
    },
    {
     "name": "stdout",
     "output_type": "stream",
     "text": [
      "+----+-----+----------------+-------------------+\n",
      "|    |   k |   alpha_ndcg@k |   kl_divergence@k |\n",
      "|----+-----+----------------+-------------------|\n",
      "|  0 |   4 |       0.767332 |          0.195655 |\n",
      "|  1 |   8 |       0.757438 |          0.182934 |\n",
      "|  2 |  16 |       0.742814 |          0.156376 |\n",
      "|  3 |  20 |       0.736475 |          0.148968 |\n",
      "+----+-----+----------------+-------------------+\n"
     ]
    },
    {
     "data": {
      "application/vnd.jupyter.widget-view+json": {
       "model_id": "d5e3081b6f53448dbf4ae80438c834ce",
       "version_major": 2,
       "version_minor": 0
      },
      "text/plain": [
       "Batches:   0%|          | 0/51 [00:00<?, ?it/s]"
      ]
     },
     "metadata": {},
     "output_type": "display_data"
    },
    {
     "data": {
      "application/vnd.jupyter.widget-view+json": {
       "model_id": "f726d7054b4f44b699a50b4dd3f624a7",
       "version_major": 2,
       "version_minor": 0
      },
      "text/plain": [
       "  0%|          | 0/1611 [00:00<?, ?it/s]"
      ]
     },
     "metadata": {},
     "output_type": "display_data"
    },
    {
     "name": "stdout",
     "output_type": "stream",
     "text": [
      "Results dev perspective:\n"
     ]
    },
    {
     "name": "stderr",
     "output_type": "stream",
     "text": [
      "100%|██████████| 1611/1611 [00:00<00:00, 2752.23it/s]\n"
     ]
    },
    {
     "name": "stdout",
     "output_type": "stream",
     "text": [
      "+----+-----+----------+---------------+\n",
      "|    |   k |   ndcg@k |   precision@k |\n",
      "|----+-----+----------+---------------|\n",
      "|  0 |   4 | 0.823443 |      0.788382 |\n",
      "|  1 |   8 | 0.795688 |      0.728695 |\n",
      "|  2 |  16 | 0.767779 |      0.67078  |\n",
      "|  3 |  20 | 0.756538 |      0.651607 |\n",
      "+----+-----+----------+---------------+\n"
     ]
    },
    {
     "name": "stderr",
     "output_type": "stream",
     "text": [
      "100%|██████████| 1611/1611 [01:27<00:00, 18.31it/s]\n"
     ]
    },
    {
     "name": "stdout",
     "output_type": "stream",
     "text": [
      "+----+-----+----------------+-------------------+\n",
      "|    |   k |   alpha_ndcg@k |   kl_divergence@k |\n",
      "|----+-----+----------------+-------------------|\n",
      "|  0 |   4 |       0.774376 |          0.198324 |\n",
      "|  1 |   8 |       0.764345 |          0.185526 |\n",
      "|  2 |  16 |       0.753354 |          0.158378 |\n",
      "|  3 |  20 |       0.747223 |          0.150637 |\n",
      "+----+-----+----------------+-------------------+\n"
     ]
    }
   ],
   "source": [
    "for split in [\"train\", \"dev\"]:\n",
    "    for scenario in [\"perspective\"]:\n",
    "        queries = load_queries(\"../../data\", scenario, split)\n",
    "        queries_embeddings = model.encode(queries[\"text\"].values, show_progress_bar=True)\n",
    "        similarities = cosine_similarity(queries_embeddings, corpus_embeddings)\n",
    "\n",
    "        predictions = []\n",
    "        for i, candidates in tqdm(enumerate(similarities), total=len(queries)):\n",
    "            relevant_candidates = []\n",
    "            for candidate_index in candidates.argsort()[::-1][:1000]:\n",
    "                demographic_property = list(queries.iloc[i][\"demographic_property\"].keys())[0]\n",
    "                value = queries.iloc[i][\"demographic_property\"][demographic_property]\n",
    "                # Dealing with mismatch between the demographic property names in the queries and the corpus;\n",
    "                # \"age_bin\" in the queries is \"age\" in the corpus, and \"important_political_issue\" in the queries\n",
    "                # is \"important_political_issues\" in the corpus with multiple values.\n",
    "                if (demographic_property != \"age_bin\") and (demographic_property != \"important_political_issue\"):\n",
    "                    if corpus.iloc[candidate_index][demographic_property] == value:\n",
    "                        relevant_candidates.append(corpus.iloc[candidate_index][\"argument_id\"])\n",
    "                elif demographic_property == \"age_bin\":\n",
    "                    if corpus.iloc[candidate_index][\"age\"] == value:\n",
    "                        relevant_candidates.append(corpus.iloc[candidate_index][\"argument_id\"])\n",
    "                elif demographic_property == \"important_political_issue\":\n",
    "                    if value in corpus.iloc[candidate_index][\"important_political_issues\"]:\n",
    "                        relevant_candidates.append(corpus.iloc[candidate_index][\"argument_id\"])\n",
    "            predictions.append({\n",
    "                \"query_id\": queries.iloc[i][\"query_id\"],\n",
    "                \"relevant_candidates\": relevant_candidates\n",
    "            })\n",
    "        \n",
    "        pd.DataFrame(predictions).to_json(f\"sbert-oracle-{split}-{scenario}-predictions.jsonl\", orient=\"records\", lines=True)\n",
    "        print(f\"Results {split} {scenario}:\")\n",
    "        os.system(f\"python3 ../evaluation/scripts/evaluation.py --data ../../data --scenario {scenario} --split {split} --predictions  sbert-oracle-{split}-{scenario}-predictions.jsonl --output_dir ../../results/sbert-oracle --diversity True\")"
   ]
  },
  {
   "cell_type": "code",
   "execution_count": null,
   "metadata": {},
   "outputs": [],
   "source": []
  }
 ],
 "metadata": {
  "kernelspec": {
   "display_name": "shared-task-2024",
   "language": "python",
   "name": "python3"
  },
  "language_info": {
   "codemirror_mode": {
    "name": "ipython",
    "version": 3
   },
   "file_extension": ".py",
   "mimetype": "text/x-python",
   "name": "python",
   "nbconvert_exporter": "python",
   "pygments_lexer": "ipython3",
   "version": "3.11.8"
  }
 },
 "nbformat": 4,
 "nbformat_minor": 2
}
