{
 "cells": [
  {
   "cell_type": "markdown",
   "id": "dff20b3a-342e-4531-9ba0-a4013ff4c1df",
   "metadata": {},
   "source": [
    "# Approach\n",
    "Our final system follows a three-step pipeline:\n",
    "1) Sociodemographic selection:\n",
    "\n",
    "    If the corpus provides sociodemographic information (i.e. in the explicit scenario), reduce the candidate pool to only those arguments that fit the sociogemographic target group.\n",
    "2) Semantic selection: \n",
    "\n",
    "    Given a sentence representation (in our case from the multilingual SBERT model `paraphrase-multilingual-mpnet-base-v2`) of a query, select the 200 arguments with the most similar representations to the query.\n",
    "    \n",
    "3) Stylistic selection:\n",
    "\n",
    "    Given a one-hot encoding of the sociodemographic target group and the stylistic feature, classify whether the stylistic pattern is relevant to/fitting for the group\n",
    "\n",
    "\n",
    "For reproduction, download the respective dataset per cycle from [https://github.com/Blubberli/argmin2024-perspective/](https://github.com/Blubberli/argmin2024-perspective/)"
   ]
  },
  {
   "cell_type": "code",
   "execution_count": 1,
   "id": "fa6dbc43-bba7-4259-ae75-0a4140229d4e",
   "metadata": {},
   "outputs": [],
   "source": [
    "import os\n",
    "import sys\n",
    "\n",
    "import pandas as pd\n",
    "import pickle\n",
    "import readability\n",
    "import spacy\n",
    "from tqdm.notebook import tqdm\n",
    "\n",
    "module_path = os.path.abspath(os.path.join('..'))\n",
    "if module_path not in sys.path:\n",
    "    sys.path.append(module_path)\n",
    "\n",
    "from data_input.load_data import load_corpus, load_queries\n",
    "from models.rankers import SentenceTransformerRanker\n",
    "from models.utils import process_predictions"
   ]
  },
  {
   "cell_type": "code",
   "execution_count": 2,
   "id": "23faafb0-1775-47d0-bfbb-764dfb85804d",
   "metadata": {
    "tags": []
   },
   "outputs": [],
   "source": [
    "#ADJ: adjective\n",
    "#ADP: adposition\n",
    "#ADV: adverb\n",
    "#AUX: auxiliary\n",
    "#CCONJ: coordinating conjunction\n",
    "#DET: determiner\n",
    "#INTJ: interjection\n",
    "#NOUN: noun\n",
    "#NUM: numeral\n",
    "#PART: particle\n",
    "#PRON: pronoun\n",
    "#PROPN: proper noun\n",
    "#PUNCT: punctuation\n",
    "#SCONJ: subordinating conjunction\n",
    "#SYM: symbol\n",
    "#VERB: verb\n",
    "#X: other\n",
    "\n",
    "upos_tags = ['ADJ', 'ADP', 'ADV', 'AUX', 'CCONJ', 'DET', 'INTJ', 'NOUN', 'NUM', 'PART', 'PRON', \n",
    "             'PROPN', 'PUNCT', 'SCONJ', 'SYM', 'VERB', 'X']\n",
    "\n",
    "nlp = spacy.load(\"de_core_news_sm\")\n",
    "\n",
    "\n",
    "def pos_features(text):\n",
    "    doc = nlp(text)\n",
    "    doc_pos = [token.pos_ for token in doc]\n",
    "    doc_length = len(doc_pos)\n",
    "    counts = {tag: doc_pos.count(tag)/doc_length for tag in upos_tags} # proportion of pos tags in text\n",
    "    return counts\n",
    "\n",
    "\n",
    "def entity_feature(text):\n",
    "    doc = nlp(text)\n",
    "    doc_ent = [token.ent_iob_ for token in doc]\n",
    "    doc_length = len(doc_ent)\n",
    "    count = (doc_ent.count('B')+doc_ent.count('I'))/doc_length # proportion of entities in text\n",
    "    return count\n",
    "\n",
    "\n",
    "def morph_features(text):\n",
    "    doc = nlp(text)\n",
    "    doc_morph = [token.morph for token in doc]\n",
    "    doc_length = len(doc_morph)\n",
    "    tense = sum([1 for token in doc_morph if \"Tense=Pres\" in token])/doc_length\n",
    "    mood = sum([1 for token in doc_morph if \"Mood=Imp\" in token])/doc_length\n",
    "    person = sum([1 for token in doc_morph if \"Person=1\" in token])/doc_length\n",
    "    return {\"past_tense\": tense, \"imperative\": mood, \"first_person\": person}\n"
   ]
  },
  {
   "cell_type": "code",
   "execution_count": 3,
   "id": "af2e485b-b086-4ad1-9ca2-eb5bd7c0f086",
   "metadata": {
    "tags": []
   },
   "outputs": [],
   "source": [
    "retrieval_ranker = SentenceTransformerRanker()"
   ]
  },
  {
   "cell_type": "code",
   "execution_count": 4,
   "id": "fcec07c7-45ad-4486-a7f1-8be00257847b",
   "metadata": {
    "tags": []
   },
   "outputs": [],
   "source": [
    "enc_dict = pickle.load(open(\"enc_dict.pickle\", \"rb\"))\n",
    "clf = pickle.load(open(\"rf_classifier.pickle\", \"rb\"))"
   ]
  },
  {
   "cell_type": "markdown",
   "id": "5a46d52c-8b19-4435-a2e0-63201ba8a939",
   "metadata": {},
   "source": [
    "# First Evaluation Circle"
   ]
  },
  {
   "cell_type": "code",
   "execution_count": 5,
   "id": "304b5315-7db7-49c6-a34f-753739862717",
   "metadata": {
    "tags": []
   },
   "outputs": [],
   "source": [
    "queries_baseline = load_queries(\"../../data\", \"baseline\", \"test\")\n",
    "queries_perspective = load_queries(\"../../data\", \"perspective\", \"test\")\n",
    "corpus = load_corpus(\"../../data\")"
   ]
  },
  {
   "cell_type": "code",
   "execution_count": 7,
   "id": "b9902a6e-fa7e-4bf5-ba21-e307f0546563",
   "metadata": {
    "tags": []
   },
   "outputs": [],
   "source": [
    "corpus['FleschReadingEase'] = corpus['argument'].apply(lambda x: readability.getmeasures(x, lang='de')['readability grades']['FleschReadingEase'])\n",
    "corpus['GunningFogIndex'] = corpus['argument'].apply(lambda x: readability.getmeasures(x, lang='de')['readability grades']['GunningFogIndex'])\n",
    "\n",
    "corpus['characters_per_word'] = corpus['argument'].apply(lambda x: readability.getmeasures(x, lang='de')['sentence info']['characters_per_word'])\n",
    "corpus['words_per_sentence'] = corpus['argument'].apply(lambda x: readability.getmeasures(x, lang='de')['sentence info']['words_per_sentence'])\n",
    "corpus['type_token_ratio'] = corpus['argument'].apply(lambda x: readability.getmeasures(x, lang='de')['sentence info']['type_token_ratio'])\n",
    "corpus['long_words'] = corpus['argument'].apply(lambda x: readability.getmeasures(x, lang='de')['sentence info']['long_words'])\n",
    "corpus['complex_words'] = corpus['argument'].apply(lambda x: readability.getmeasures(x, lang='de')['sentence info']['complex_words'])\n",
    "\n",
    "# add column with pos tags (as dict)\n",
    "corpus['POS'] = corpus['argument'].apply(lambda x: pos_features(x))\n",
    "# pos dict to single columns\n",
    "corpus = pd.concat([corpus, corpus['POS'].apply(pd.Series)], axis=1)\n",
    "corpus = corpus.drop('POS', axis=1)\n",
    "\n",
    "# add column with entity ratio\n",
    "corpus['Entities'] = corpus['argument'].apply(lambda x: entity_feature(x))\n",
    "\n",
    "# add column with morphology features\n",
    "corpus['Morph'] = corpus['argument'].apply(lambda x: morph_features(x))\n",
    "# morph dict to single columns\n",
    "corpus = pd.concat([corpus, corpus['Morph'].apply(pd.Series)], axis=1)\n",
    "corpus = corpus.drop('Morph', axis=1)\n",
    "\n",
    "corpus['stance_num'] = corpus.stance.apply(lambda x: 1 if x == \"FAVOR\" else 0)"
   ]
  },
  {
   "cell_type": "code",
   "execution_count": 8,
   "id": "1a223060-23f1-4d40-8411-e6516ca51b2e",
   "metadata": {
    "tags": []
   },
   "outputs": [
    {
     "data": {
      "application/vnd.jupyter.widget-view+json": {
       "model_id": "aa052afe982e415aa7ae7e1342a83eec",
       "version_major": 2,
       "version_minor": 0
      },
      "text/plain": [
       "Batches:   0%|          | 0/1013 [00:00<?, ?it/s]"
      ]
     },
     "metadata": {},
     "output_type": "display_data"
    }
   ],
   "source": [
    "retrieval_ranker.fit_trainsform(corpus[\"argument\"].values)"
   ]
  },
  {
   "cell_type": "markdown",
   "id": "7a9c05aa-819c-42d3-8367-8981f6a565f7",
   "metadata": {},
   "source": [
    "## Scenario 1: Baseline"
   ]
  },
  {
   "cell_type": "code",
   "execution_count": 9,
   "id": "d406dd8d-86ae-4e28-9013-6159e4a97ddb",
   "metadata": {
    "tags": []
   },
   "outputs": [],
   "source": [
    "candidates = retrieval_ranker.rank(queries_baseline[\"text\"].values, top_k=200)\n",
    "predictions_baseline = process_predictions(corpus, queries_baseline, candidates)\n",
    "pd.DataFrame(predictions_baseline).to_json(\"../../data/submission/final_submissions/predictions_testset1_baseline.jsonl\", orient=\"records\", lines=True)"
   ]
  },
  {
   "cell_type": "markdown",
   "id": "cc6cfaca-7fc8-4c4e-9812-08e444471211",
   "metadata": {},
   "source": [
    "## Scenario 2: Explicit Perspectivism"
   ]
  },
  {
   "cell_type": "code",
   "execution_count": 10,
   "id": "414fa3c9-08ff-4cc8-a359-2fccffc0bcba",
   "metadata": {
    "tags": []
   },
   "outputs": [],
   "source": [
    "preselected_per_attribute = {}\n",
    "for attribute in ['gender', 'age',\n",
    "       'residence', 'civil_status', 'denomination', 'education',\n",
    "       'political_spectrum']:\n",
    "    preselected_per_attribute[attribute] = {}\n",
    "    for key in corpus[attribute].unique():\n",
    "        preselected_per_attribute[attribute][key] = [i for i in corpus[corpus[attribute] == key].index]\n",
    "vals = []\n",
    "for i, row in corpus.iterrows():\n",
    "    vals += row[\"important_political_issues\"]\n",
    "vals = list(set(vals))\n",
    "preselected_per_attribute[\"important_political_issue\"] = {}\n",
    "for val in vals:\n",
    "    preselected_per_attribute[\"important_political_issue\"][val] = [i for i, row in corpus.iterrows() if val in row[\"important_political_issues\"]]"
   ]
  },
  {
   "cell_type": "code",
   "execution_count": 11,
   "id": "9573f3df-8092-496c-bf20-5434591622fc",
   "metadata": {
    "tags": []
   },
   "outputs": [],
   "source": [
    "pred = []\n",
    "for i, query in queries_perspective.iterrows():\n",
    "    attribute = list(query[\"demographic_property\"].keys())[0]\n",
    "    key = list(query[\"demographic_property\"].values())[0]\n",
    "    if attribute == \"age_bin\":\n",
    "        attribute = \"age\"\n",
    "    pred += retrieval_ranker.rank([query[\"text\"]], preselected_ids=preselected_per_attribute[attribute][key], top_k=200)"
   ]
  },
  {
   "cell_type": "code",
   "execution_count": 12,
   "id": "7bb5f160-9289-4c90-b902-d1cd22837c33",
   "metadata": {
    "tags": []
   },
   "outputs": [],
   "source": [
    "preselected = process_predictions(corpus, queries_perspective, pred)"
   ]
  },
  {
   "cell_type": "code",
   "execution_count": 17,
   "id": "899ec745-0ea8-44a1-bcea-9a82a6b7eab3",
   "metadata": {
    "tags": []
   },
   "outputs": [
    {
     "data": {
      "application/vnd.jupyter.widget-view+json": {
       "model_id": "46ea8cc00f6849c5afea7ae92ef02268",
       "version_major": 2,
       "version_minor": 0
      },
      "text/plain": [
       "  0%|          | 0/2358 [00:00<?, ?it/s]"
      ]
     },
     "metadata": {},
     "output_type": "display_data"
    }
   ],
   "source": [
    "final_preds = []\n",
    "for i in tqdm(range(len(preselected))):\n",
    "    attribute = queries_perspective[queries_perspective[\"query_id\"]==preselected[i][\"query_id\"]][\"demographic_property\"].apply(lambda x: list(x.keys())[0]).iloc[0]\n",
    "    val = queries_perspective[queries_perspective[\"query_id\"]==preselected[i][\"query_id\"]][\"demographic_property\"].apply(lambda x: list(x.values())[0]).iloc[0]\n",
    "    encoding = enc_dict[attribute][val]\n",
    "    relevant_candidates = []\n",
    "    for argument_id in preselected[i][\"relevant_candidates\"]:\n",
    "        additional_features = list(corpus[corpus[\"argument_id\"] == argument_id].reset_index().iloc[0][['FleschReadingEase', 'GunningFogIndex', 'characters_per_word', 'words_per_sentence', 'type_token_ratio', 'long_words', 'complex_words', 'ADJ', 'ADP', 'ADV', 'AUX', 'CCONJ', 'DET', 'INTJ', 'NOUN', 'NUM', 'PART', 'PRON', 'PROPN', 'PUNCT', 'SCONJ', 'SYM', 'VERB', 'X', 'Entities', 'past_tense', 'imperative', 'first_person', 'stance_num']])\n",
    "        features = encoding + additional_features\n",
    "        classification_result = clf.predict([features])[0]\n",
    "        if classification_result == 1:\n",
    "            relevant_candidates.append(argument_id)\n",
    "    final_preds.append({\"query_id\":preselected[i][\"query_id\"], \"relevant_candidates\":relevant_candidates})"
   ]
  },
  {
   "cell_type": "code",
   "execution_count": 19,
   "id": "0ae706e2-746c-47b1-9363-da5a51cc90e6",
   "metadata": {
    "tags": []
   },
   "outputs": [],
   "source": [
    "pd.DataFrame(final_preds).to_json(\"../../data/submission/final_submissions/predictions_testset1_explicit.jsonl\", orient=\"records\", lines=True)"
   ]
  },
  {
   "cell_type": "markdown",
   "id": "c11e0016-be7e-4ada-a78c-5757c41b60c7",
   "metadata": {},
   "source": [
    "## Scenario 3: Implicit Perspectivism"
   ]
  },
  {
   "cell_type": "code",
   "execution_count": 20,
   "id": "c0a5081e-f8ef-4e2d-85b2-4d1603c1caf9",
   "metadata": {
    "tags": []
   },
   "outputs": [],
   "source": [
    "candidates = retrieval_ranker.rank(queries_perspective[\"text\"].values, top_k=200)\n",
    "preselected = process_predictions(corpus, queries_perspective, candidates)"
   ]
  },
  {
   "cell_type": "code",
   "execution_count": 21,
   "id": "3ec59f0a-9352-4571-add3-e1efeb1d19f6",
   "metadata": {
    "tags": []
   },
   "outputs": [
    {
     "data": {
      "application/vnd.jupyter.widget-view+json": {
       "model_id": "8effa5b6be614063ba0e5d5b80b95706",
       "version_major": 2,
       "version_minor": 0
      },
      "text/plain": [
       "  0%|          | 0/2358 [00:00<?, ?it/s]"
      ]
     },
     "metadata": {},
     "output_type": "display_data"
    }
   ],
   "source": [
    "final_preds = []\n",
    "for i in tqdm(range(len(preselected))):\n",
    "    attribute = queries_perspective[queries_perspective[\"query_id\"]==preselected[i][\"query_id\"]][\"demographic_property\"].apply(lambda x: list(x.keys())[0]).iloc[0]\n",
    "    val = queries_perspective[queries_perspective[\"query_id\"]==preselected[i][\"query_id\"]][\"demographic_property\"].apply(lambda x: list(x.values())[0]).iloc[0]\n",
    "    encoding = enc_dict[attribute][val]\n",
    "    relevant_candidates = []\n",
    "    for argument_id in preselected[i][\"relevant_candidates\"]:\n",
    "        additional_features = list(corpus[corpus[\"argument_id\"] == argument_id].reset_index().iloc[0][['FleschReadingEase', 'GunningFogIndex', 'characters_per_word', 'words_per_sentence', 'type_token_ratio', 'long_words', 'complex_words', 'ADJ', 'ADP', 'ADV', 'AUX', 'CCONJ', 'DET', 'INTJ', 'NOUN', 'NUM', 'PART', 'PRON', 'PROPN', 'PUNCT', 'SCONJ', 'SYM', 'VERB', 'X', 'Entities', 'past_tense', 'imperative', 'first_person', 'stance_num']])\n",
    "        features = encoding + additional_features\n",
    "        classification_result = clf.predict([features])[0]\n",
    "        if classification_result == 1:\n",
    "            relevant_candidates.append(argument_id)\n",
    "    final_preds.append({\"query_id\":preselected[i][\"query_id\"], \"relevant_candidates\":relevant_candidates})"
   ]
  },
  {
   "cell_type": "code",
   "execution_count": 22,
   "id": "8200abc8-4c75-427e-ba2a-9aaf4fb6bb90",
   "metadata": {
    "tags": []
   },
   "outputs": [],
   "source": [
    "pd.DataFrame(final_preds).to_json(\"../../data/submission/final_submissions/predictions_testset1_implicit.jsonl\", orient=\"records\", lines=True)"
   ]
  },
  {
   "cell_type": "markdown",
   "id": "5e7e5b75-eb47-412c-8336-be28f6c31abd",
   "metadata": {},
   "source": [
    "# Second Evaluation Circle"
   ]
  },
  {
   "cell_type": "code",
   "execution_count": 23,
   "id": "125cf6ba-c7ff-4f17-bbb0-3b3e40c1d958",
   "metadata": {
    "tags": []
   },
   "outputs": [],
   "source": [
    "queries_baseline = load_queries(\"../../data/test_cycle_2\", \"baseline\", \"test\")\n",
    "queries_perspective = load_queries(\"../../data/test_cycle_2\", \"perspective\", \"test\")\n",
    "corpus = load_corpus(\"../../data/test_cycle_2\")"
   ]
  },
  {
   "cell_type": "code",
   "execution_count": 24,
   "id": "74b706dd-2408-4f0b-af2e-36a0c713721c",
   "metadata": {
    "tags": []
   },
   "outputs": [],
   "source": [
    "corpus['FleschReadingEase'] = corpus['argument'].apply(lambda x: readability.getmeasures(x, lang='de')['readability grades']['FleschReadingEase'])\n",
    "corpus['GunningFogIndex'] = corpus['argument'].apply(lambda x: readability.getmeasures(x, lang='de')['readability grades']['GunningFogIndex'])\n",
    "\n",
    "corpus['characters_per_word'] = corpus['argument'].apply(lambda x: readability.getmeasures(x, lang='de')['sentence info']['characters_per_word'])\n",
    "corpus['words_per_sentence'] = corpus['argument'].apply(lambda x: readability.getmeasures(x, lang='de')['sentence info']['words_per_sentence'])\n",
    "corpus['type_token_ratio'] = corpus['argument'].apply(lambda x: readability.getmeasures(x, lang='de')['sentence info']['type_token_ratio'])\n",
    "corpus['long_words'] = corpus['argument'].apply(lambda x: readability.getmeasures(x, lang='de')['sentence info']['long_words'])\n",
    "corpus['complex_words'] = corpus['argument'].apply(lambda x: readability.getmeasures(x, lang='de')['sentence info']['complex_words'])\n",
    "\n",
    "# add column with pos tags (as dict)\n",
    "corpus['POS'] = corpus['argument'].apply(lambda x: pos_features(x))\n",
    "# pos dict to single columns\n",
    "corpus = pd.concat([corpus, corpus['POS'].apply(pd.Series)], axis=1)\n",
    "corpus = corpus.drop('POS', axis=1)\n",
    "\n",
    "# add column with entity ratio\n",
    "corpus['Entities'] = corpus['argument'].apply(lambda x: entity_feature(x))\n",
    "\n",
    "# add column with morphology features\n",
    "corpus['Morph'] = corpus['argument'].apply(lambda x: morph_features(x))\n",
    "# morph dict to single columns\n",
    "corpus = pd.concat([corpus, corpus['Morph'].apply(pd.Series)], axis=1)\n",
    "corpus = corpus.drop('Morph', axis=1)\n",
    "\n",
    "corpus['stance_num'] = corpus.stance.apply(lambda x: 1 if x == \"FAVOR\" else 0)"
   ]
  },
  {
   "cell_type": "code",
   "execution_count": 25,
   "id": "c83e1995-3df1-4d0a-a474-c5045503303e",
   "metadata": {
    "tags": []
   },
   "outputs": [
    {
     "data": {
      "application/vnd.jupyter.widget-view+json": {
       "model_id": "598c27baba4e40648c0484b3266c3af8",
       "version_major": 2,
       "version_minor": 0
      },
      "text/plain": [
       "Batches:   0%|          | 0/1222 [00:00<?, ?it/s]"
      ]
     },
     "metadata": {},
     "output_type": "display_data"
    }
   ],
   "source": [
    "retrieval_ranker.fit_trainsform(corpus[\"argument\"].values)"
   ]
  },
  {
   "cell_type": "markdown",
   "id": "0449ef0a-47b5-4391-8b08-e00b44e33b47",
   "metadata": {},
   "source": [
    "## Scenario 1: Baseline"
   ]
  },
  {
   "cell_type": "code",
   "execution_count": 26,
   "id": "95dc8102-ae9a-4814-8cee-8c620b942af5",
   "metadata": {
    "tags": []
   },
   "outputs": [],
   "source": [
    "candidates = retrieval_ranker.rank(queries_baseline[\"text\"].values, top_k=200)\n",
    "predictions_baseline = process_predictions(corpus, queries_baseline, candidates)\n",
    "pd.DataFrame(predictions_baseline).to_json(\"../../data/submission/final_submissions/predictions_testset2_baseline.jsonl\", orient=\"records\", lines=True)"
   ]
  },
  {
   "cell_type": "markdown",
   "id": "9a9902d3-34a1-42f6-ad24-b034fc9cd98d",
   "metadata": {},
   "source": [
    "## Scenario 2: Explicit Perspectivism"
   ]
  },
  {
   "cell_type": "code",
   "execution_count": 27,
   "id": "9ed48af0-a1da-4318-a979-1e8bc015ab6b",
   "metadata": {
    "tags": []
   },
   "outputs": [
    {
     "data": {
      "application/vnd.jupyter.widget-view+json": {
       "model_id": "cd2f8ca56c37484193000a7e77cdee65",
       "version_major": 2,
       "version_minor": 0
      },
      "text/plain": [
       "  0%|          | 0/1782 [00:00<?, ?it/s]"
      ]
     },
     "metadata": {},
     "output_type": "display_data"
    }
   ],
   "source": [
    "preselected_per_attribute = {}\n",
    "for attribute in ['gender', 'age',\n",
    "       'residence', 'civil_status', 'denomination', 'education',\n",
    "       'political_spectrum']:\n",
    "    preselected_per_attribute[attribute] = {}\n",
    "    for key in corpus[attribute].unique():\n",
    "        preselected_per_attribute[attribute][key] = [i for i in corpus[corpus[attribute] == key].index]\n",
    "vals = []\n",
    "for i, row in corpus.iterrows():\n",
    "    vals += row[\"important_political_issues\"]\n",
    "vals = list(set(vals))\n",
    "preselected_per_attribute[\"important_political_issue\"] = {}\n",
    "for val in vals:\n",
    "    preselected_per_attribute[\"important_political_issue\"][val] = [i for i, row in corpus.iterrows() if val in row[\"important_political_issues\"]]\n",
    "    \n",
    "pred = []\n",
    "for i, query in queries_perspective.iterrows():\n",
    "    attribute = list(query[\"demographic_property\"].keys())[0]\n",
    "    key = list(query[\"demographic_property\"].values())[0]\n",
    "    if attribute == \"age_bin\":\n",
    "        attribute = \"age\"\n",
    "    pred += retrieval_ranker.rank([query[\"text\"]], preselected_ids=preselected_per_attribute[attribute][key], top_k=200)\n",
    "    \n",
    "preselected = process_predictions(corpus, queries_perspective, pred)\n",
    "\n",
    "final_preds = []\n",
    "for i in tqdm(range(len(preselected))):\n",
    "    attribute = queries_perspective[queries_perspective[\"query_id\"]==preselected[i][\"query_id\"]][\"demographic_property\"].apply(lambda x: list(x.keys())[0]).iloc[0]\n",
    "    val = queries_perspective[queries_perspective[\"query_id\"]==preselected[i][\"query_id\"]][\"demographic_property\"].apply(lambda x: list(x.values())[0]).iloc[0]\n",
    "    encoding = enc_dict[attribute][val]\n",
    "    relevant_candidates = []\n",
    "    for argument_id in preselected[i][\"relevant_candidates\"]:\n",
    "        additional_features = list(corpus[corpus[\"argument_id\"] == argument_id].reset_index().iloc[0][['FleschReadingEase', 'GunningFogIndex', 'characters_per_word', 'words_per_sentence', 'type_token_ratio', 'long_words', 'complex_words', 'ADJ', 'ADP', 'ADV', 'AUX', 'CCONJ', 'DET', 'INTJ', 'NOUN', 'NUM', 'PART', 'PRON', 'PROPN', 'PUNCT', 'SCONJ', 'SYM', 'VERB', 'X', 'Entities', 'past_tense', 'imperative', 'first_person', 'stance_num']])\n",
    "        features = encoding + additional_features\n",
    "        classification_result = clf.predict([features])[0]\n",
    "        if classification_result == 1:\n",
    "            relevant_candidates.append(argument_id)\n",
    "    final_preds.append({\"query_id\":preselected[i][\"query_id\"], \"relevant_candidates\":relevant_candidates})\n",
    "\n",
    "pd.DataFrame(final_preds).to_json(\"../../data/submission/final_submissions/predictions_testset2_explicit.jsonl\", orient=\"records\", lines=True)"
   ]
  },
  {
   "cell_type": "markdown",
   "id": "1f38e7b7-88e5-47c0-8502-4bb27d1826de",
   "metadata": {},
   "source": [
    "## Scenario 3: Implicit Perspectism"
   ]
  },
  {
   "cell_type": "code",
   "execution_count": 28,
   "id": "0bfc9dae-b22b-466d-9cda-c6f6c65eaef6",
   "metadata": {
    "tags": []
   },
   "outputs": [
    {
     "data": {
      "application/vnd.jupyter.widget-view+json": {
       "model_id": "74c4c81c09bd43959b9208d71750f084",
       "version_major": 2,
       "version_minor": 0
      },
      "text/plain": [
       "  0%|          | 0/1782 [00:00<?, ?it/s]"
      ]
     },
     "metadata": {},
     "output_type": "display_data"
    }
   ],
   "source": [
    "candidates = retrieval_ranker.rank(queries_perspective[\"text\"].values, top_k=200)\n",
    "preselected = process_predictions(corpus, queries_perspective, candidates)\n",
    "\n",
    "final_preds = []\n",
    "for i in tqdm(range(len(preselected))):\n",
    "    attribute = queries_perspective[queries_perspective[\"query_id\"]==preselected[i][\"query_id\"]][\"demographic_property\"].apply(lambda x: list(x.keys())[0]).iloc[0]\n",
    "    val = queries_perspective[queries_perspective[\"query_id\"]==preselected[i][\"query_id\"]][\"demographic_property\"].apply(lambda x: list(x.values())[0]).iloc[0]\n",
    "    encoding = enc_dict[attribute][val]\n",
    "    relevant_candidates = []\n",
    "    for argument_id in preselected[i][\"relevant_candidates\"]:\n",
    "        additional_features = list(corpus[corpus[\"argument_id\"] == argument_id].reset_index().iloc[0][['FleschReadingEase', 'GunningFogIndex', 'characters_per_word', 'words_per_sentence', 'type_token_ratio', 'long_words', 'complex_words', 'ADJ', 'ADP', 'ADV', 'AUX', 'CCONJ', 'DET', 'INTJ', 'NOUN', 'NUM', 'PART', 'PRON', 'PROPN', 'PUNCT', 'SCONJ', 'SYM', 'VERB', 'X', 'Entities', 'past_tense', 'imperative', 'first_person', 'stance_num']])\n",
    "        features = encoding + additional_features\n",
    "        classification_result = clf.predict([features])[0]\n",
    "        if classification_result == 1:\n",
    "            relevant_candidates.append(argument_id)\n",
    "    final_preds.append({\"query_id\":preselected[i][\"query_id\"], \"relevant_candidates\":relevant_candidates})\n",
    "    \n",
    "pd.DataFrame(final_preds).to_json(\"../../data/submission/final_submissions/predictions_testset2_implicit.jsonl\", orient=\"records\", lines=True)"
   ]
  },
  {
   "cell_type": "markdown",
   "id": "deac8df4-9ce4-4e4e-af6b-3d8ee5b8ef66",
   "metadata": {
    "tags": []
   },
   "source": [
    "# Final Evaluation Circle"
   ]
  },
  {
   "cell_type": "code",
   "execution_count": 29,
   "id": "75182adc-1a36-4449-9214-52daaae9c24d",
   "metadata": {
    "tags": []
   },
   "outputs": [],
   "source": [
    "queries_baseline = load_queries(\"../../data/2023-surprise-data\", \"baseline\", \"test\")\n",
    "queries_perspective = load_queries(\"../../data/2023-surprise-data\", \"perspective\", \"test\")\n",
    "corpus = load_corpus(\"../../data/2023-surprise-data\")"
   ]
  },
  {
   "cell_type": "code",
   "execution_count": 30,
   "id": "a201129d-8f98-4ae6-b046-14ca2e5c8de4",
   "metadata": {
    "tags": []
   },
   "outputs": [],
   "source": [
    "corpus['FleschReadingEase'] = corpus['argument'].apply(lambda x: readability.getmeasures(x, lang='de')['readability grades']['FleschReadingEase'])\n",
    "corpus['GunningFogIndex'] = corpus['argument'].apply(lambda x: readability.getmeasures(x, lang='de')['readability grades']['GunningFogIndex'])\n",
    "\n",
    "corpus['characters_per_word'] = corpus['argument'].apply(lambda x: readability.getmeasures(x, lang='de')['sentence info']['characters_per_word'])\n",
    "corpus['words_per_sentence'] = corpus['argument'].apply(lambda x: readability.getmeasures(x, lang='de')['sentence info']['words_per_sentence'])\n",
    "corpus['type_token_ratio'] = corpus['argument'].apply(lambda x: readability.getmeasures(x, lang='de')['sentence info']['type_token_ratio'])\n",
    "corpus['long_words'] = corpus['argument'].apply(lambda x: readability.getmeasures(x, lang='de')['sentence info']['long_words'])\n",
    "corpus['complex_words'] = corpus['argument'].apply(lambda x: readability.getmeasures(x, lang='de')['sentence info']['complex_words'])\n",
    "\n",
    "# add column with pos tags (as dict)\n",
    "corpus['POS'] = corpus['argument'].apply(lambda x: pos_features(x))\n",
    "# pos dict to single columns\n",
    "corpus = pd.concat([corpus, corpus['POS'].apply(pd.Series)], axis=1)\n",
    "corpus = corpus.drop('POS', axis=1)\n",
    "\n",
    "# add column with entity ratio\n",
    "corpus['Entities'] = corpus['argument'].apply(lambda x: entity_feature(x))\n",
    "\n",
    "# add column with morphology features\n",
    "corpus['Morph'] = corpus['argument'].apply(lambda x: morph_features(x))\n",
    "# morph dict to single columns\n",
    "corpus = pd.concat([corpus, corpus['Morph'].apply(pd.Series)], axis=1)\n",
    "corpus = corpus.drop('Morph', axis=1)\n",
    "\n",
    "corpus['stance_num'] = corpus.stance.apply(lambda x: 1 if x == \"FAVOR\" else 0)"
   ]
  },
  {
   "cell_type": "code",
   "execution_count": 31,
   "id": "f5507111-2492-4a99-9aa6-c3e33793e2de",
   "metadata": {
    "tags": []
   },
   "outputs": [
    {
     "data": {
      "application/vnd.jupyter.widget-view+json": {
       "model_id": "1c7882f0cef84a31bf5f9d9d92c5eb5e",
       "version_major": 2,
       "version_minor": 0
      },
      "text/plain": [
       "Batches:   0%|          | 0/897 [00:00<?, ?it/s]"
      ]
     },
     "metadata": {},
     "output_type": "display_data"
    }
   ],
   "source": [
    "retrieval_ranker.fit_trainsform(corpus[\"argument\"].values)"
   ]
  },
  {
   "cell_type": "markdown",
   "id": "d5cd7815-3f79-4799-bce2-2e6392a64729",
   "metadata": {},
   "source": [
    "## Scenario 1: Baseline"
   ]
  },
  {
   "cell_type": "code",
   "execution_count": 32,
   "id": "3e22e75a-0324-414c-9804-8ea79b6b5e4f",
   "metadata": {
    "tags": []
   },
   "outputs": [],
   "source": [
    "candidates = retrieval_ranker.rank(queries_baseline[\"text\"].values, top_k=200)\n",
    "predictions_baseline = process_predictions(corpus, queries_baseline, candidates)\n",
    "pd.DataFrame(predictions_baseline).to_json(\"../../data/submission/final_submissions/predictions_testset3_baseline.jsonl\", orient=\"records\", lines=True)"
   ]
  },
  {
   "cell_type": "markdown",
   "id": "c80c70b9-05be-4bb2-be8a-79fcc29f4549",
   "metadata": {},
   "source": [
    "## Scenario 2: Explicit"
   ]
  },
  {
   "cell_type": "code",
   "execution_count": 33,
   "id": "b4ff539c-efb1-4e15-849d-2c8cf4ff8d0d",
   "metadata": {
    "tags": []
   },
   "outputs": [
    {
     "data": {
      "application/vnd.jupyter.widget-view+json": {
       "model_id": "619f9a82609345c7994dbef15e98e308",
       "version_major": 2,
       "version_minor": 0
      },
      "text/plain": [
       "  0%|          | 0/729 [00:00<?, ?it/s]"
      ]
     },
     "metadata": {},
     "output_type": "display_data"
    }
   ],
   "source": [
    "preselected_per_attribute = {}\n",
    "for attribute in ['gender', 'age',\n",
    "       'residence', 'civil_status', 'denomination', 'education',\n",
    "       'political_spectrum']:\n",
    "    preselected_per_attribute[attribute] = {}\n",
    "    for key in corpus[attribute].unique():\n",
    "        preselected_per_attribute[attribute][key] = [i for i in corpus[corpus[attribute] == key].index]\n",
    "vals = []\n",
    "for i, row in corpus.iterrows():\n",
    "    vals += row[\"important_political_issues\"]\n",
    "vals = list(set(vals))\n",
    "preselected_per_attribute[\"important_political_issue\"] = {}\n",
    "for val in vals:\n",
    "    preselected_per_attribute[\"important_political_issue\"][val] = [i for i, row in corpus.iterrows() if val in row[\"important_political_issues\"]]\n",
    "    \n",
    "pred = []\n",
    "for i, query in queries_perspective.iterrows():\n",
    "    attribute = list(query[\"demographic_property\"].keys())[0]\n",
    "    key = list(query[\"demographic_property\"].values())[0]\n",
    "    if attribute == \"age_bin\":\n",
    "        attribute = \"age\"\n",
    "    pred += retrieval_ranker.rank([query[\"text\"]], preselected_ids=preselected_per_attribute[attribute][key], top_k=200)\n",
    "    \n",
    "preselected = process_predictions(corpus, queries_perspective, pred)\n",
    "\n",
    "final_preds = []\n",
    "for i in tqdm(range(len(preselected))):\n",
    "    attribute = queries_perspective[queries_perspective[\"query_id\"]==preselected[i][\"query_id\"]][\"demographic_property\"].apply(lambda x: list(x.keys())[0]).iloc[0]\n",
    "    val = queries_perspective[queries_perspective[\"query_id\"]==preselected[i][\"query_id\"]][\"demographic_property\"].apply(lambda x: list(x.values())[0]).iloc[0]\n",
    "    encoding = enc_dict[attribute][val]\n",
    "    relevant_candidates = []\n",
    "    for argument_id in preselected[i][\"relevant_candidates\"]:\n",
    "        additional_features = list(corpus[corpus[\"argument_id\"] == argument_id].reset_index().iloc[0][['FleschReadingEase', 'GunningFogIndex', 'characters_per_word', 'words_per_sentence', 'type_token_ratio', 'long_words', 'complex_words', 'ADJ', 'ADP', 'ADV', 'AUX', 'CCONJ', 'DET', 'INTJ', 'NOUN', 'NUM', 'PART', 'PRON', 'PROPN', 'PUNCT', 'SCONJ', 'SYM', 'VERB', 'X', 'Entities', 'past_tense', 'imperative', 'first_person', 'stance_num']])\n",
    "        features = encoding + additional_features\n",
    "        classification_result = clf.predict([features])[0]\n",
    "        if classification_result == 1:\n",
    "            relevant_candidates.append(argument_id)\n",
    "    final_preds.append({\"query_id\":preselected[i][\"query_id\"], \"relevant_candidates\":relevant_candidates})\n",
    "\n",
    "pd.DataFrame(final_preds).to_json(\"../../data/submission/final_submissions/predictions_testset3_explicit.jsonl\", orient=\"records\", lines=True)"
   ]
  },
  {
   "cell_type": "markdown",
   "id": "9f77375d-4b2f-40b0-ba57-13c07222a172",
   "metadata": {},
   "source": [
    "## Scenario 3: Implicit Perspectivism"
   ]
  },
  {
   "cell_type": "code",
   "execution_count": 34,
   "id": "d4312228-fe30-46d2-99c8-17814ef33ec8",
   "metadata": {
    "tags": []
   },
   "outputs": [
    {
     "data": {
      "application/vnd.jupyter.widget-view+json": {
       "model_id": "359c1cb9363f4c9dbfd34907e002ff02",
       "version_major": 2,
       "version_minor": 0
      },
      "text/plain": [
       "  0%|          | 0/729 [00:00<?, ?it/s]"
      ]
     },
     "metadata": {},
     "output_type": "display_data"
    }
   ],
   "source": [
    "candidates = retrieval_ranker.rank(queries_perspective[\"text\"].values, top_k=200)\n",
    "preselected = process_predictions(corpus, queries_perspective, candidates)\n",
    "\n",
    "final_preds = []\n",
    "for i in tqdm(range(len(preselected))):\n",
    "    attribute = queries_perspective[queries_perspective[\"query_id\"]==preselected[i][\"query_id\"]][\"demographic_property\"].apply(lambda x: list(x.keys())[0]).iloc[0]\n",
    "    val = queries_perspective[queries_perspective[\"query_id\"]==preselected[i][\"query_id\"]][\"demographic_property\"].apply(lambda x: list(x.values())[0]).iloc[0]\n",
    "    encoding = enc_dict[attribute][val]\n",
    "    relevant_candidates = []\n",
    "    for argument_id in preselected[i][\"relevant_candidates\"]:\n",
    "        additional_features = list(corpus[corpus[\"argument_id\"] == argument_id].reset_index().iloc[0][['FleschReadingEase', 'GunningFogIndex', 'characters_per_word', 'words_per_sentence', 'type_token_ratio', 'long_words', 'complex_words', 'ADJ', 'ADP', 'ADV', 'AUX', 'CCONJ', 'DET', 'INTJ', 'NOUN', 'NUM', 'PART', 'PRON', 'PROPN', 'PUNCT', 'SCONJ', 'SYM', 'VERB', 'X', 'Entities', 'past_tense', 'imperative', 'first_person', 'stance_num']])\n",
    "        features = encoding + additional_features\n",
    "        classification_result = clf.predict([features])[0]\n",
    "        if classification_result == 1:\n",
    "            relevant_candidates.append(argument_id)\n",
    "    final_preds.append({\"query_id\":preselected[i][\"query_id\"], \"relevant_candidates\":relevant_candidates})\n",
    "    \n",
    "pd.DataFrame(final_preds).to_json(\"../../data/submission/final_submissions/predictions_testset3_implicit.jsonl\", orient=\"records\", lines=True)"
   ]
  },
  {
   "cell_type": "code",
   "execution_count": null,
   "id": "8ad331bd-228f-4bcf-96d2-883e138f4bf6",
   "metadata": {},
   "outputs": [],
   "source": []
  }
 ],
 "metadata": {
  "kernelspec": {
   "display_name": "shared-task",
   "language": "python",
   "name": "shared-task"
  },
  "language_info": {
   "codemirror_mode": {
    "name": "ipython",
    "version": 3
   },
   "file_extension": ".py",
   "mimetype": "text/x-python",
   "name": "python",
   "nbconvert_exporter": "python",
   "pygments_lexer": "ipython3",
   "version": "3.11.5"
  }
 },
 "nbformat": 4,
 "nbformat_minor": 5
}
