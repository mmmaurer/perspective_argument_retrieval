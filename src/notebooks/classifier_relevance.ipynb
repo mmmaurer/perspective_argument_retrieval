{
 "cells": [
  {
   "cell_type": "code",
   "execution_count": 1,
   "id": "c5fd284f-9648-41cc-97f8-793f19d064ed",
   "metadata": {
    "tags": []
   },
   "outputs": [],
   "source": [
    "import os\n",
    "import sys\n",
    "\n",
    "import pandas as pd\n",
    "import pickle\n",
    "import numpy as np\n",
    "from sklearn.ensemble import RandomForestClassifier\n",
    "from sklearn import metrics\n",
    "\n",
    "\n",
    "module_path = os.path.abspath(os.path.join('..'))\n",
    "if module_path not in sys.path:\n",
    "    sys.path.append(module_path)\n",
    "\n",
    "from data_input.load_data import load_corpus, load_queries"
   ]
  },
  {
   "cell_type": "markdown",
   "id": "2da6ced0",
   "metadata": {},
   "source": [
    "For reproducing this, download the respective data set splits from https://github.com/Blubberli/argmin2024-perspective/"
   ]
  },
  {
   "cell_type": "code",
   "execution_count": 2,
   "id": "8a87d4c8-a1b4-4d94-aa7c-4abc12e33de2",
   "metadata": {},
   "outputs": [],
   "source": [
    "corpus1 = load_corpus(\"../../data_release_1_with_labels\")\n",
    "corpus2 = load_corpus(\"../../data_release_2_with_labels\")\n",
    "corpus3 = load_corpus(\"../../data_release_3_with_labels\")\n",
    "corpus = pd.concat([corpus1, corpus2, corpus3])"
   ]
  },
  {
   "cell_type": "code",
   "execution_count": 50,
   "id": "bc3c5711-0236-4042-afbb-111bfc04a218",
   "metadata": {
    "tags": []
   },
   "outputs": [],
   "source": [
    "queries_train_1 = load_queries(\"../../data_release_1_with_labels/\", \"perspective\", \"train\")\n",
    "queries_train_2 = load_queries(\"../../data_release_2_with_labels\", \"perspective\", \"train\")\n",
    "queries_train_3 = load_queries(\"../../data_release_3_with_labels\", \"perspective\", \"train\")\n",
    "queries_train = pd.concat([queries_train_1, queries_train_2, queries_train_3]).drop_duplicates(subset=\"query_id\").reset_index()\n",
    "queries_dev_1 = load_queries(\"../../data_release_1_with_labels\", \"perspective\", \"dev\")\n",
    "queries_dev_2 = load_queries(\"../../data_release_2_with_labels\", \"perspective\", \"dev\")\n",
    "queries_dev_3 = load_queries(\"../../data_release_3_with_labels\", \"perspective\", \"dev\")\n",
    "queries_dev = pd.concat([queries_dev_1, queries_dev_2, queries_dev_3]).drop_duplicates(subset=\"query_id\").reset_index()\n",
    "\n",
    "queries_train_bl1 = load_queries(\"../../data_release_1_with_labels/\", \"baseline\", \"train\")\n",
    "queries_train_bl2 = load_queries(\"../../data_release_2_with_labels\", \"baseline\", \"train\")\n",
    "queries_train_bl3 = load_queries(\"../../data_release_3_with_labels\", \"baseline\", \"train\")\n",
    "queries_train_bl = pd.concat([queries_train_bl1, queries_train_bl2, queries_train_bl3]).drop_duplicates(subset=\"query_id\").reset_index()\n",
    "queries_dev_bl1 = load_queries(\"../../data_release_1_with_labels\", \"baseline\", \"dev\")\n",
    "queries_dev_bl2 = load_queries(\"../../data_release_2_with_labels\", \"baseline\", \"dev\")\n",
    "queries_dev_bl3 = load_queries(\"../../data_release_3_with_labels\", \"baseline\", \"dev\")\n",
    "queries_dev_bl = pd.concat([queries_dev_bl1, queries_dev_bl2, queries_dev_bl3]).drop_duplicates(subset=\"query_id\").reset_index()"
   ]
  },
  {
   "cell_type": "code",
   "execution_count": 3,
   "id": "410c9581-0814-456c-ab4e-62826a401a72",
   "metadata": {
    "tags": []
   },
   "outputs": [],
   "source": [
    "corpus = corpus.drop_duplicates(subset=\"argument_id\")"
   ]
  },
  {
   "cell_type": "code",
   "execution_count": 4,
   "id": "6e10cf02-cb2a-4a91-8bb5-c2a63ff03c48",
   "metadata": {
    "tags": []
   },
   "outputs": [],
   "source": [
    "attr_val = {}\n",
    "all_vals = []\n",
    "for attribute in ['gender', 'age',\n",
    "       'residence', 'civil_status', 'denomination', 'education',\n",
    "       'political_spectrum']:\n",
    "    if attribute == 'age':\n",
    "        attr_val[\"age_bin\"] = list(corpus[f\"{attribute}\"].unique())\n",
    "        all_vals += attr_val[\"age_bin\"]\n",
    "    else:\n",
    "        attr_val[attribute] = list(corpus[f\"{attribute}\"].unique())\n",
    "        all_vals += attr_val[attribute]\n",
    "vals = []\n",
    "for i, row in corpus.iterrows():\n",
    "    vals += row[\"important_political_issues\"]\n",
    "vals = list(set(vals))\n",
    "all_vals += vals\n",
    "attr_val[\"important_political_issue\"] = list(vals)"
   ]
  },
  {
   "cell_type": "markdown",
   "id": "7d56eed3-853c-41d8-821d-bb23855061bd",
   "metadata": {},
   "source": [
    "Building one-hot encoding for the sociodemographic groups"
   ]
  },
  {
   "cell_type": "code",
   "execution_count": 5,
   "id": "11ec1960-71af-452c-a62b-d74f6727b423",
   "metadata": {
    "tags": []
   },
   "outputs": [],
   "source": [
    "enc_dict = {}\n",
    "i = 0\n",
    "for attribute in attr_val.keys():\n",
    "    enc_dict[attribute] = {}\n",
    "    for value in attr_val[attribute]:\n",
    "        enc = [0 for _ in range(len(all_vals))]\n",
    "        enc[i] = 1\n",
    "        i+=1\n",
    "        enc_dict[attribute][value] = enc"
   ]
  },
  {
   "cell_type": "code",
   "execution_count": 7,
   "id": "d48efd43-90aa-4edd-8b22-6e8bfc09fbdc",
   "metadata": {
    "tags": []
   },
   "outputs": [],
   "source": [
    "pickle.dump(enc_dict, open(\"enc_dict.pickle\", \"wb\"))"
   ]
  },
  {
   "cell_type": "markdown",
   "id": "22f71077-da81-45e6-b602-5231e803b5dd",
   "metadata": {},
   "source": [
    "Load data from disk, for details how the data set was created, consult `gather_dataset.py` "
   ]
  },
  {
   "cell_type": "code",
   "execution_count": 2,
   "id": "f70562da-54de-44e7-b52d-a214c889af40",
   "metadata": {
    "tags": []
   },
   "outputs": [],
   "source": [
    "df = pd.read_csv(\"train.tsv\", sep=\"\\t\")"
   ]
  },
  {
   "cell_type": "code",
   "execution_count": 2,
   "id": "908023e4-3a24-418b-9668-2ed181fac5eb",
   "metadata": {
    "tags": []
   },
   "outputs": [],
   "source": [
    "df = pd.read_csv(\"val.tsv\", sep=\"\\t\")"
   ]
  },
  {
   "cell_type": "code",
   "execution_count": 3,
   "id": "123bbb9f-b0fc-415e-af76-d6dcef016562",
   "metadata": {
    "tags": []
   },
   "outputs": [],
   "source": [
    "df = df.sample(frac=1) # shuffle dataset\n",
    "# df = df.sample(frac=0.2)"
   ]
  },
  {
   "cell_type": "markdown",
   "id": "1e85ce14-de87-4027-8871-26e5ec397410",
   "metadata": {},
   "source": [
    "Preprocessing features"
   ]
  },
  {
   "cell_type": "code",
   "execution_count": 4,
   "id": "6c9289fa-2da8-4598-a0a2-dcc6a3de56b7",
   "metadata": {
    "tags": []
   },
   "outputs": [],
   "source": [
    "df[\"encoding\"] = df[\"encoding\"].apply(lambda x: [int(elem) for elem in x.replace(\"[\", \"\").replace(\"]\", \"\").split(\", \")])"
   ]
  },
  {
   "cell_type": "code",
   "execution_count": 5,
   "id": "d4c2b2c3-4ee7-42ae-b4b8-5a00359a9ccb",
   "metadata": {
    "tags": []
   },
   "outputs": [],
   "source": [
    "df[\"additional_feats\"] = df[\"additional_feats\"].apply(lambda x: [float(elem) for elem in x.replace(\"[\", \"\").replace(\"]\", \"\").split(\", \")])"
   ]
  },
  {
   "cell_type": "code",
   "execution_count": 6,
   "id": "0e492b1b-cc58-499e-8a72-68eaa144b320",
   "metadata": {
    "tags": []
   },
   "outputs": [],
   "source": [
    "df[\"input\"] = df[\"encoding\"] + df[\"additional_feats\"]"
   ]
  },
  {
   "cell_type": "code",
   "execution_count": 7,
   "id": "e0e0dab6-94fd-438f-bbdd-6201a944d752",
   "metadata": {
    "tags": []
   },
   "outputs": [],
   "source": [
    "train, validate, test = np.split(df.sample(frac=1, random_state=42), [int(.6*len(df)), int(.8*len(df))])"
   ]
  },
  {
   "cell_type": "code",
   "execution_count": 9,
   "id": "f62dbe05-be48-46af-b4bf-cd4318d07a54",
   "metadata": {
    "tags": []
   },
   "outputs": [],
   "source": [
    "clf = RandomForestClassifier()"
   ]
  },
  {
   "cell_type": "code",
   "execution_count": 10,
   "id": "6276e44e-beaf-4d30-b17d-f5384f8bfff4",
   "metadata": {
    "tags": []
   },
   "outputs": [
    {
     "data": {
      "text/html": [
       "<style>#sk-container-id-1 {color: black;}#sk-container-id-1 pre{padding: 0;}#sk-container-id-1 div.sk-toggleable {background-color: white;}#sk-container-id-1 label.sk-toggleable__label {cursor: pointer;display: block;width: 100%;margin-bottom: 0;padding: 0.3em;box-sizing: border-box;text-align: center;}#sk-container-id-1 label.sk-toggleable__label-arrow:before {content: \"▸\";float: left;margin-right: 0.25em;color: #696969;}#sk-container-id-1 label.sk-toggleable__label-arrow:hover:before {color: black;}#sk-container-id-1 div.sk-estimator:hover label.sk-toggleable__label-arrow:before {color: black;}#sk-container-id-1 div.sk-toggleable__content {max-height: 0;max-width: 0;overflow: hidden;text-align: left;background-color: #f0f8ff;}#sk-container-id-1 div.sk-toggleable__content pre {margin: 0.2em;color: black;border-radius: 0.25em;background-color: #f0f8ff;}#sk-container-id-1 input.sk-toggleable__control:checked~div.sk-toggleable__content {max-height: 200px;max-width: 100%;overflow: auto;}#sk-container-id-1 input.sk-toggleable__control:checked~label.sk-toggleable__label-arrow:before {content: \"▾\";}#sk-container-id-1 div.sk-estimator input.sk-toggleable__control:checked~label.sk-toggleable__label {background-color: #d4ebff;}#sk-container-id-1 div.sk-label input.sk-toggleable__control:checked~label.sk-toggleable__label {background-color: #d4ebff;}#sk-container-id-1 input.sk-hidden--visually {border: 0;clip: rect(1px 1px 1px 1px);clip: rect(1px, 1px, 1px, 1px);height: 1px;margin: -1px;overflow: hidden;padding: 0;position: absolute;width: 1px;}#sk-container-id-1 div.sk-estimator {font-family: monospace;background-color: #f0f8ff;border: 1px dotted black;border-radius: 0.25em;box-sizing: border-box;margin-bottom: 0.5em;}#sk-container-id-1 div.sk-estimator:hover {background-color: #d4ebff;}#sk-container-id-1 div.sk-parallel-item::after {content: \"\";width: 100%;border-bottom: 1px solid gray;flex-grow: 1;}#sk-container-id-1 div.sk-label:hover label.sk-toggleable__label {background-color: #d4ebff;}#sk-container-id-1 div.sk-serial::before {content: \"\";position: absolute;border-left: 1px solid gray;box-sizing: border-box;top: 0;bottom: 0;left: 50%;z-index: 0;}#sk-container-id-1 div.sk-serial {display: flex;flex-direction: column;align-items: center;background-color: white;padding-right: 0.2em;padding-left: 0.2em;position: relative;}#sk-container-id-1 div.sk-item {position: relative;z-index: 1;}#sk-container-id-1 div.sk-parallel {display: flex;align-items: stretch;justify-content: center;background-color: white;position: relative;}#sk-container-id-1 div.sk-item::before, #sk-container-id-1 div.sk-parallel-item::before {content: \"\";position: absolute;border-left: 1px solid gray;box-sizing: border-box;top: 0;bottom: 0;left: 50%;z-index: -1;}#sk-container-id-1 div.sk-parallel-item {display: flex;flex-direction: column;z-index: 1;position: relative;background-color: white;}#sk-container-id-1 div.sk-parallel-item:first-child::after {align-self: flex-end;width: 50%;}#sk-container-id-1 div.sk-parallel-item:last-child::after {align-self: flex-start;width: 50%;}#sk-container-id-1 div.sk-parallel-item:only-child::after {width: 0;}#sk-container-id-1 div.sk-dashed-wrapped {border: 1px dashed gray;margin: 0 0.4em 0.5em 0.4em;box-sizing: border-box;padding-bottom: 0.4em;background-color: white;}#sk-container-id-1 div.sk-label label {font-family: monospace;font-weight: bold;display: inline-block;line-height: 1.2em;}#sk-container-id-1 div.sk-label-container {text-align: center;}#sk-container-id-1 div.sk-container {/* jupyter's `normalize.less` sets `[hidden] { display: none; }` but bootstrap.min.css set `[hidden] { display: none !important; }` so we also need the `!important` here to be able to override the default hidden behavior on the sphinx rendered scikit-learn.org. See: https://github.com/scikit-learn/scikit-learn/issues/21755 */display: inline-block !important;position: relative;}#sk-container-id-1 div.sk-text-repr-fallback {display: none;}</style><div id=\"sk-container-id-1\" class=\"sk-top-container\"><div class=\"sk-text-repr-fallback\"><pre>RandomForestClassifier()</pre><b>In a Jupyter environment, please rerun this cell to show the HTML representation or trust the notebook. <br />On GitHub, the HTML representation is unable to render, please try loading this page with nbviewer.org.</b></div><div class=\"sk-container\" hidden><div class=\"sk-item\"><div class=\"sk-estimator sk-toggleable\"><input class=\"sk-toggleable__control sk-hidden--visually\" id=\"sk-estimator-id-1\" type=\"checkbox\" checked><label for=\"sk-estimator-id-1\" class=\"sk-toggleable__label sk-toggleable__label-arrow\">RandomForestClassifier</label><div class=\"sk-toggleable__content\"><pre>RandomForestClassifier()</pre></div></div></div></div></div>"
      ],
      "text/plain": [
       "RandomForestClassifier()"
      ]
     },
     "execution_count": 10,
     "metadata": {},
     "output_type": "execute_result"
    }
   ],
   "source": [
    "clf.fit(list(train[\"input\"].values), list(train[\"label\"].values))"
   ]
  },
  {
   "cell_type": "code",
   "execution_count": 17,
   "id": "5ed2aaa0-9a2d-4e46-9b3a-8999552c8af8",
   "metadata": {
    "tags": []
   },
   "outputs": [],
   "source": [
    "pickle.dump(clf, open(\"rf_classifier.pickle\", \"wb\"))"
   ]
  },
  {
   "cell_type": "code",
   "execution_count": 7,
   "id": "5dcf19f3-16ca-48b6-b8ac-d1207147c083",
   "metadata": {
    "tags": []
   },
   "outputs": [],
   "source": [
    "clf = pickle.load(open(\"rf_classifier.pickle\", \"rb\"))"
   ]
  },
  {
   "cell_type": "code",
   "execution_count": 14,
   "id": "9e14f16d-36b6-4420-ad0c-bbf2d045f9e7",
   "metadata": {
    "tags": []
   },
   "outputs": [],
   "source": [
    "pred = clf.predict(list(test[\"input\"].values))"
   ]
  },
  {
   "cell_type": "code",
   "execution_count": 8,
   "id": "089b0b74-aab4-40f3-8e9b-7a64ad4b40b3",
   "metadata": {
    "tags": []
   },
   "outputs": [],
   "source": [
    "pred = clf.predict(list(df[\"input\"].values))"
   ]
  },
  {
   "cell_type": "code",
   "execution_count": 21,
   "id": "4b9d2ce0-e109-47e6-bf2a-09bbfc7d77cc",
   "metadata": {
    "tags": []
   },
   "outputs": [
    {
     "data": {
      "text/plain": [
       "'              precision    recall  f1-score   support\\n\\n           0       0.60      0.60      0.60    219702\\n           1       0.64      0.64      0.64    243636\\n\\n    accuracy                           0.62    463338\\n   macro avg       0.62      0.62      0.62    463338\\nweighted avg       0.62      0.62      0.62    463338\\n'"
      ]
     },
     "execution_count": 21,
     "metadata": {},
     "output_type": "execute_result"
    }
   ],
   "source": [
    "metrics.classification_report(pred, list(test[\"label\"].values)) # result using only 1/5 of the data"
   ]
  },
  {
   "cell_type": "code",
   "execution_count": 15,
   "id": "a74e378d-e6ba-472c-b5f2-3299585d4e3a",
   "metadata": {
    "tags": []
   },
   "outputs": [
    {
     "data": {
      "text/plain": [
       "'              precision    recall  f1-score   support\\n\\n           0       0.63      0.57      0.60   1191113\\n           1       0.59      0.64      0.61   1125574\\n\\n    accuracy                           0.60   2316687\\n   macro avg       0.61      0.61      0.60   2316687\\nweighted avg       0.61      0.60      0.60   2316687\\n'"
      ]
     },
     "execution_count": 15,
     "metadata": {},
     "output_type": "execute_result"
    }
   ],
   "source": [
    "metrics.classification_report(pred, list(test[\"label\"].values)) # result using the full data"
   ]
  },
  {
   "cell_type": "code",
   "execution_count": 10,
   "id": "50b713ee-4bfe-4142-bf79-526486891419",
   "metadata": {
    "tags": []
   },
   "outputs": [
    {
     "data": {
      "text/plain": [
       "'              precision    recall  f1-score   support\\n\\n           0       0.01      0.47      0.01     20823\\n           1       0.99      0.53      0.69   2949123\\n\\n    accuracy                           0.53   2969946\\n   macro avg       0.50      0.50      0.35   2969946\\nweighted avg       0.99      0.53      0.69   2969946\\n'"
      ]
     },
     "execution_count": 10,
     "metadata": {},
     "output_type": "execute_result"
    }
   ],
   "source": [
    "metrics.classification_report(pred, list(df[\"label\"].values)) # result using the val dataset"
   ]
  },
  {
   "cell_type": "code",
   "execution_count": null,
   "id": "1ea04144-cbee-4feb-9281-208630808811",
   "metadata": {},
   "outputs": [],
   "source": []
  }
 ],
 "metadata": {
  "kernelspec": {
   "display_name": "shared-task",
   "language": "python",
   "name": "shared-task"
  },
  "language_info": {
   "codemirror_mode": {
    "name": "ipython",
    "version": 3
   },
   "file_extension": ".py",
   "mimetype": "text/x-python",
   "name": "python",
   "nbconvert_exporter": "python",
   "pygments_lexer": "ipython3",
   "version": "3.11.5"
  }
 },
 "nbformat": 4,
 "nbformat_minor": 5
}
